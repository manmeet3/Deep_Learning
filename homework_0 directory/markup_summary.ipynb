{
 "cells": [
  {
   "cell_type": "markdown",
   "metadata": {},
   "source": [
    "# Markup Summary"
   ]
  },
  {
   "cell_type": "markdown",
   "metadata": {},
   "source": [
    "## Overview"
   ]
  },
  {
   "cell_type": "markdown",
   "metadata": {},
   "source": [
    "Markup is a term defining document structure. Markdown is a markup library. It can be run through anaconda by changing cwd to notebook directory and running command: _jupyter notebook_.\n",
    "\n",
    "Once local server started, It is present at localhost:8888. The icons in the top control panel can be summarized as follows (also pictured below): \n",
    "![saving](https://raw.githubusercontent.com/fastai/course-v3/master/nbs/dl1/images/notebook_tutorial/save.png)\n",
    "* Save button (indicated by red arrow) \n",
    "* Add a new cell, cut a cell \n",
    "* Copy selected cells\n",
    "* Paste cells below currently selected cell, move cell up\n",
    "* Move cell down \n",
    "* Run cell, stop \n",
    "* Restart kernel\n",
    "* Restart kernel\n",
    "* Run entire notebook\n",
    "* Dropdown menu indicated text type of current cell -- markdown and code are important ones.\n",
    "\n",
    "\n",
    "\n"
   ]
  },
  {
   "cell_type": "markdown",
   "metadata": {},
   "source": [
    "## Markdown "
   ]
  },
  {
   "cell_type": "markdown",
   "metadata": {},
   "source": [
    "#### Modes"
   ]
  },
  {
   "cell_type": "markdown",
   "metadata": {},
   "source": [
    "Edit Mode: Allows you to edit a cell's content.\n",
    "\n",
    "Command Mode: Allows you to edit the notebook as a whole and use keyboard shortcuts but not edit a cell's content."
   ]
  },
  {
   "cell_type": "markdown",
   "metadata": {},
   "source": [
    "## Shortcuts"
   ]
  },
  {
   "cell_type": "markdown",
   "metadata": {},
   "source": [
    "* Shift+Enter: Run current cell\n",
    "* Shift up/Shift down: Select multiple cells\n",
    "* b: Create new cell\n",
    "* Shift+M: Merge selected cells\n",
    "* m: Convert cell to Markdown\n",
    "* y: Convert cell to Code\n",
    "* Shift+Tab: Provides additional information on selected function\n",
    "\n",
    "--\n",
    "\n",
    "Others: Help > Keyboard Shortcuts\n",
    "Edit Shortcuts: Help > Edit Keyboard Shortcuts"
   ]
  },
  {
   "cell_type": "markdown",
   "metadata": {},
   "source": [
    "## Working with python in notebooks"
   ]
  },
  {
   "cell_type": "markdown",
   "metadata": {},
   "source": [
    "`?function-name`: Shows the definition and docstring for that function\n",
    "\n",
    "`??function-name`: Shows the source code for that function\n",
    "\n",
    "`doc(function-name)`: Shows the definition, docstring **and links to the documentation** of the function\n",
    "\n",
    "`%timeit`: Runs a line a ten thousand times and displays the average time it took to run it.\n",
    "\n",
    "`%reload_ext autoreload`, `%autoreload 2`: Reload all modules before executing a new line. If a module is edited, it is not necessary to rerun the import commands, the modules will be reloaded automatically.\n",
    "\n",
    "`%matplotlib inline`: This command ensures that all matplotlib plots will be plotted in the output cell within the notebook and will be kept in the notebook when saved."
   ]
  },
  {
   "cell_type": "code",
   "execution_count": null,
   "metadata": {},
   "outputs": [],
   "source": []
  }
 ],
 "metadata": {
  "kernelspec": {
   "display_name": "Python 3",
   "language": "python",
   "name": "python3"
  },
  "language_info": {
   "codemirror_mode": {
    "name": "ipython",
    "version": 3
   },
   "file_extension": ".py",
   "mimetype": "text/x-python",
   "name": "python",
   "nbconvert_exporter": "python",
   "pygments_lexer": "ipython3",
   "version": "3.7.4"
  }
 },
 "nbformat": 4,
 "nbformat_minor": 2
}
