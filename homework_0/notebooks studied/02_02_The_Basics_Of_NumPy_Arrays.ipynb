{
  "nbformat": 4,
  "nbformat_minor": 0,
  "metadata": {
    "anaconda-cloud": {},
    "kernelspec": {
      "display_name": "Python 3",
      "language": "python",
      "name": "python3"
    },
    "language_info": {
      "codemirror_mode": {
        "name": "ipython",
        "version": 3
      },
      "file_extension": ".py",
      "mimetype": "text/x-python",
      "name": "python",
      "nbconvert_exporter": "python",
      "pygments_lexer": "ipython3",
      "version": "3.5.1"
    },
    "colab": {
      "name": "02.02-The-Basics-Of-NumPy-Arrays.ipynb",
      "provenance": []
    }
  },
  "cells": [
    {
      "cell_type": "markdown",
      "metadata": {
        "id": "l4482jJxkGDg",
        "colab_type": "text"
      },
      "source": [
        "<!--BOOK_INFORMATION-->\n",
        "<img align=\"left\" style=\"padding-right:10px;\" src=\"https://github.com/jakevdp/PythonDataScienceHandbook/blob/master/notebooks/figures/PDSH-cover-small.png?raw=1\">\n",
        "\n",
        "*This notebook contains an excerpt from the [Python Data Science Handbook](http://shop.oreilly.com/product/0636920034919.do) by Jake VanderPlas; the content is available [on GitHub](https://github.com/jakevdp/PythonDataScienceHandbook).*\n",
        "\n",
        "*The text is released under the [CC-BY-NC-ND license](https://creativecommons.org/licenses/by-nc-nd/3.0/us/legalcode), and code is released under the [MIT license](https://opensource.org/licenses/MIT). If you find this content useful, please consider supporting the work by [buying the book](http://shop.oreilly.com/product/0636920034919.do)!*"
      ]
    },
    {
      "cell_type": "markdown",
      "metadata": {
        "id": "N59Y7cX-kGDl",
        "colab_type": "text"
      },
      "source": [
        "<!--NAVIGATION-->\n",
        "< [Understanding Data Types in Python](02.01-Understanding-Data-Types.ipynb) | [Contents](Index.ipynb) | [Computation on NumPy Arrays: Universal Functions](02.03-Computation-on-arrays-ufuncs.ipynb) >\n",
        "\n",
        "<a href=\"https://colab.research.google.com/github/jakevdp/PythonDataScienceHandbook/blob/master/notebooks/02.02-The-Basics-Of-NumPy-Arrays.ipynb\"><img align=\"left\" src=\"https://colab.research.google.com/assets/colab-badge.svg\" alt=\"Open in Colab\" title=\"Open and Execute in Google Colaboratory\"></a>\n"
      ]
    },
    {
      "cell_type": "markdown",
      "metadata": {
        "id": "UrNd2J20kGDn",
        "colab_type": "text"
      },
      "source": [
        "# The Basics of NumPy Arrays"
      ]
    },
    {
      "cell_type": "markdown",
      "metadata": {
        "id": "wzUkEHdwkGDs",
        "colab_type": "text"
      },
      "source": [
        "Data manipulation in Python is nearly synonymous with NumPy array manipulation: even newer tools like Pandas ([Chapter 3](03.00-Introduction-to-Pandas.ipynb)) are built around the NumPy array.\n",
        "This section will present several examples of using NumPy array manipulation to access data and subarrays, and to split, reshape, and join the arrays.\n",
        "While the types of operations shown here may seem a bit dry and pedantic, they comprise the building blocks of many other examples used throughout the book.\n",
        "Get to know them well!\n",
        "\n",
        "We'll cover a few categories of basic array manipulations here:\n",
        "\n",
        "- *Attributes of arrays*: Determining the size, shape, memory consumption, and data types of arrays\n",
        "- *Indexing of arrays*: Getting and setting the value of individual array elements\n",
        "- *Slicing of arrays*: Getting and setting smaller subarrays within a larger array\n",
        "- *Reshaping of arrays*: Changing the shape of a given array\n",
        "- *Joining and splitting of arrays*: Combining multiple arrays into one, and splitting one array into many"
      ]
    },
    {
      "cell_type": "markdown",
      "metadata": {
        "id": "AwL8Wr_PkGDv",
        "colab_type": "text"
      },
      "source": [
        "## NumPy Array Attributes"
      ]
    },
    {
      "cell_type": "markdown",
      "metadata": {
        "id": "3H23p5lVkGDz",
        "colab_type": "text"
      },
      "source": [
        "First let's discuss some useful array attributes.\n",
        "We'll start by defining three random arrays, a one-dimensional, two-dimensional, and three-dimensional array.\n",
        "We'll use NumPy's random number generator, which we will *seed* with a set value in order to ensure that the same random arrays are generated each time this code is run:"
      ]
    },
    {
      "cell_type": "code",
      "metadata": {
        "id": "XYq5_anEkGD2",
        "colab_type": "code",
        "colab": {}
      },
      "source": [
        "import numpy as np\n",
        "np.random.seed(0)  # seed for reproducibility\n",
        "\n",
        "x1 = np.random.randint(10, size=6)  # One-dimensional array\n",
        "x2 = np.random.randint(10, size=(3, 4))  # Two-dimensional array\n",
        "x3 = np.random.randint(10, size=(3, 4, 5))  # Three-dimensional array"
      ],
      "execution_count": 0,
      "outputs": []
    },
    {
      "cell_type": "markdown",
      "metadata": {
        "id": "8rYcMHrbkGD-",
        "colab_type": "text"
      },
      "source": [
        "Each array has attributes ``ndim`` (the number of dimensions), ``shape`` (the size of each dimension), and ``size`` (the total size of the array):"
      ]
    },
    {
      "cell_type": "code",
      "metadata": {
        "id": "FTeTorC-kGEA",
        "colab_type": "code",
        "colab": {},
        "outputId": "623699d3-e5b9-4692-de8b-58effc3a251a"
      },
      "source": [
        "print(\"x3 ndim: \", x3.ndim)\n",
        "print(\"x3 shape:\", x3.shape)\n",
        "print(\"x3 size: \", x3.size)"
      ],
      "execution_count": 0,
      "outputs": [
        {
          "output_type": "stream",
          "text": [
            "x3 ndim:  3\n",
            "x3 shape: (3, 4, 5)\n",
            "x3 size:  60\n"
          ],
          "name": "stdout"
        }
      ]
    },
    {
      "cell_type": "markdown",
      "metadata": {
        "id": "xJDHVB_0kGEJ",
        "colab_type": "text"
      },
      "source": [
        "Another useful attribute is the ``dtype``, the data type of the array (which we discussed previously in [Understanding Data Types in Python](02.01-Understanding-Data-Types.ipynb)):"
      ]
    },
    {
      "cell_type": "code",
      "metadata": {
        "id": "pFy4MyVdkGEM",
        "colab_type": "code",
        "colab": {},
        "outputId": "957d1958-9b3a-4596-f4f6-afcc3b80fe2b"
      },
      "source": [
        "print(\"dtype:\", x3.dtype)"
      ],
      "execution_count": 0,
      "outputs": [
        {
          "output_type": "stream",
          "text": [
            "dtype: int64\n"
          ],
          "name": "stdout"
        }
      ]
    },
    {
      "cell_type": "markdown",
      "metadata": {
        "id": "EZFMMRLhkGEZ",
        "colab_type": "text"
      },
      "source": [
        "Other attributes include ``itemsize``, which lists the size (in bytes) of each array element, and ``nbytes``, which lists the total size (in bytes) of the array:"
      ]
    },
    {
      "cell_type": "code",
      "metadata": {
        "id": "Qslf-SehkGEb",
        "colab_type": "code",
        "colab": {},
        "outputId": "270ad14c-e310-4a9b-df9d-396149c6b7df"
      },
      "source": [
        "print(\"itemsize:\", x3.itemsize, \"bytes\")\n",
        "print(\"nbytes:\", x3.nbytes, \"bytes\")"
      ],
      "execution_count": 0,
      "outputs": [
        {
          "output_type": "stream",
          "text": [
            "itemsize: 8 bytes\n",
            "nbytes: 480 bytes\n"
          ],
          "name": "stdout"
        }
      ]
    },
    {
      "cell_type": "markdown",
      "metadata": {
        "id": "E9NrtieVkGEk",
        "colab_type": "text"
      },
      "source": [
        "In general, we expect that ``nbytes`` is equal to ``itemsize`` times ``size``."
      ]
    },
    {
      "cell_type": "markdown",
      "metadata": {
        "id": "-zgd6qjXkGEn",
        "colab_type": "text"
      },
      "source": [
        "## Array Indexing: Accessing Single Elements"
      ]
    },
    {
      "cell_type": "markdown",
      "metadata": {
        "id": "y-Fh3Y5SkGEq",
        "colab_type": "text"
      },
      "source": [
        "If you are familiar with Python's standard list indexing, indexing in NumPy will feel quite familiar.\n",
        "In a one-dimensional array, the $i^{th}$ value (counting from zero) can be accessed by specifying the desired index in square brackets, just as with Python lists:"
      ]
    },
    {
      "cell_type": "code",
      "metadata": {
        "id": "RHIV3-UmkGEs",
        "colab_type": "code",
        "colab": {},
        "outputId": "595380bd-7048-4805-b7c4-c7c38b2e0f1e"
      },
      "source": [
        "x1"
      ],
      "execution_count": 0,
      "outputs": [
        {
          "output_type": "execute_result",
          "data": {
            "text/plain": [
              "array([5, 0, 3, 3, 7, 9])"
            ]
          },
          "metadata": {
            "tags": []
          },
          "execution_count": 5
        }
      ]
    },
    {
      "cell_type": "code",
      "metadata": {
        "id": "3CWaHod8kGE1",
        "colab_type": "code",
        "colab": {},
        "outputId": "873bf980-7f53-4b17-fc43-de4d4c416f8c"
      },
      "source": [
        "x1[0]"
      ],
      "execution_count": 0,
      "outputs": [
        {
          "output_type": "execute_result",
          "data": {
            "text/plain": [
              "5"
            ]
          },
          "metadata": {
            "tags": []
          },
          "execution_count": 6
        }
      ]
    },
    {
      "cell_type": "code",
      "metadata": {
        "id": "fKY4I7GvkGE-",
        "colab_type": "code",
        "colab": {},
        "outputId": "cb64e148-4910-467d-f53a-bd435ef66089"
      },
      "source": [
        "x1[4]"
      ],
      "execution_count": 0,
      "outputs": [
        {
          "output_type": "execute_result",
          "data": {
            "text/plain": [
              "7"
            ]
          },
          "metadata": {
            "tags": []
          },
          "execution_count": 7
        }
      ]
    },
    {
      "cell_type": "markdown",
      "metadata": {
        "id": "a0t5-M6qkGFL",
        "colab_type": "text"
      },
      "source": [
        "To index from the end of the array, you can use negative indices:"
      ]
    },
    {
      "cell_type": "code",
      "metadata": {
        "id": "ZjATOWeMkGFW",
        "colab_type": "code",
        "colab": {},
        "outputId": "95dd1ee0-8489-4658-e47b-9d7cc5babe21"
      },
      "source": [
        "x1[-1]"
      ],
      "execution_count": 0,
      "outputs": [
        {
          "output_type": "execute_result",
          "data": {
            "text/plain": [
              "9"
            ]
          },
          "metadata": {
            "tags": []
          },
          "execution_count": 8
        }
      ]
    },
    {
      "cell_type": "code",
      "metadata": {
        "id": "h7lX4DrpkGFe",
        "colab_type": "code",
        "colab": {},
        "outputId": "0eefedd2-b8f0-48a8-93c8-83cc3f56e623"
      },
      "source": [
        "x1[-2]"
      ],
      "execution_count": 0,
      "outputs": [
        {
          "output_type": "execute_result",
          "data": {
            "text/plain": [
              "7"
            ]
          },
          "metadata": {
            "tags": []
          },
          "execution_count": 9
        }
      ]
    },
    {
      "cell_type": "markdown",
      "metadata": {
        "id": "L51kVf57kGFo",
        "colab_type": "text"
      },
      "source": [
        "In a multi-dimensional array, items can be accessed using a comma-separated tuple of indices:"
      ]
    },
    {
      "cell_type": "code",
      "metadata": {
        "id": "gYpr0-s_kGFr",
        "colab_type": "code",
        "colab": {},
        "outputId": "a9f7f2d6-8b9f-4e95-d96e-96029a62da00"
      },
      "source": [
        "x2"
      ],
      "execution_count": 0,
      "outputs": [
        {
          "output_type": "execute_result",
          "data": {
            "text/plain": [
              "array([[3, 5, 2, 4],\n",
              "       [7, 6, 8, 8],\n",
              "       [1, 6, 7, 7]])"
            ]
          },
          "metadata": {
            "tags": []
          },
          "execution_count": 10
        }
      ]
    },
    {
      "cell_type": "code",
      "metadata": {
        "id": "NI4RVVxMkGGa",
        "colab_type": "code",
        "colab": {},
        "outputId": "d9c240b2-3fe2-4909-a778-d64d36273a8b"
      },
      "source": [
        "x2[0, 0]"
      ],
      "execution_count": 0,
      "outputs": [
        {
          "output_type": "execute_result",
          "data": {
            "text/plain": [
              "3"
            ]
          },
          "metadata": {
            "tags": []
          },
          "execution_count": 11
        }
      ]
    },
    {
      "cell_type": "code",
      "metadata": {
        "id": "5oonp6dRkGG2",
        "colab_type": "code",
        "colab": {},
        "outputId": "323922b8-f3de-4252-e29e-b4bee4f53de2"
      },
      "source": [
        "x2[2, 0]"
      ],
      "execution_count": 0,
      "outputs": [
        {
          "output_type": "execute_result",
          "data": {
            "text/plain": [
              "1"
            ]
          },
          "metadata": {
            "tags": []
          },
          "execution_count": 12
        }
      ]
    },
    {
      "cell_type": "code",
      "metadata": {
        "id": "ApdSOYLYkGHy",
        "colab_type": "code",
        "colab": {},
        "outputId": "fc880bc4-f6c6-478d-ad21-84ebd887e22a"
      },
      "source": [
        "x2[2, -1]"
      ],
      "execution_count": 0,
      "outputs": [
        {
          "output_type": "execute_result",
          "data": {
            "text/plain": [
              "7"
            ]
          },
          "metadata": {
            "tags": []
          },
          "execution_count": 13
        }
      ]
    },
    {
      "cell_type": "markdown",
      "metadata": {
        "id": "_B6DBrLHkGH7",
        "colab_type": "text"
      },
      "source": [
        "Values can also be modified using any of the above index notation:"
      ]
    },
    {
      "cell_type": "code",
      "metadata": {
        "id": "HV2hXyefkGH-",
        "colab_type": "code",
        "colab": {},
        "outputId": "c77a7263-c0b6-4409-919c-47b76f738e7c"
      },
      "source": [
        "x2[0, 0] = 12\n",
        "x2"
      ],
      "execution_count": 0,
      "outputs": [
        {
          "output_type": "execute_result",
          "data": {
            "text/plain": [
              "array([[12,  5,  2,  4],\n",
              "       [ 7,  6,  8,  8],\n",
              "       [ 1,  6,  7,  7]])"
            ]
          },
          "metadata": {
            "tags": []
          },
          "execution_count": 14
        }
      ]
    },
    {
      "cell_type": "markdown",
      "metadata": {
        "id": "6AmvE79kkGIJ",
        "colab_type": "text"
      },
      "source": [
        "Keep in mind that, unlike Python lists, NumPy arrays have a fixed type.\n",
        "This means, for example, that if you attempt to insert a floating-point value to an integer array, the value will be silently truncated. Don't be caught unaware by this behavior!"
      ]
    },
    {
      "cell_type": "code",
      "metadata": {
        "id": "acFJYgfSkGIQ",
        "colab_type": "code",
        "colab": {},
        "outputId": "3b771903-eb54-46ef-f280-7c1025b1a969"
      },
      "source": [
        "x1[0] = 3.14159  # this will be truncated!\n",
        "x1"
      ],
      "execution_count": 0,
      "outputs": [
        {
          "output_type": "execute_result",
          "data": {
            "text/plain": [
              "array([3, 0, 3, 3, 7, 9])"
            ]
          },
          "metadata": {
            "tags": []
          },
          "execution_count": 15
        }
      ]
    },
    {
      "cell_type": "markdown",
      "metadata": {
        "id": "mszIAd5_kGIt",
        "colab_type": "text"
      },
      "source": [
        "## Array Slicing: Accessing Subarrays"
      ]
    },
    {
      "cell_type": "markdown",
      "metadata": {
        "id": "mqEPtMYbkGIw",
        "colab_type": "text"
      },
      "source": [
        "Just as we can use square brackets to access individual array elements, we can also use them to access subarrays with the *slice* notation, marked by the colon (``:``) character.\n",
        "The NumPy slicing syntax follows that of the standard Python list; to access a slice of an array ``x``, use this:\n",
        "``` python\n",
        "x[start:stop:step]\n",
        "```\n",
        "If any of these are unspecified, they default to the values ``start=0``, ``stop=``*``size of dimension``*, ``step=1``.\n",
        "We'll take a look at accessing sub-arrays in one dimension and in multiple dimensions."
      ]
    },
    {
      "cell_type": "markdown",
      "metadata": {
        "id": "eM3lfM9OkGIz",
        "colab_type": "text"
      },
      "source": [
        "### One-dimensional subarrays"
      ]
    },
    {
      "cell_type": "code",
      "metadata": {
        "id": "2ELj9HEqkGI2",
        "colab_type": "code",
        "colab": {},
        "outputId": "df576e59-685b-4168-fa8a-5a54adb94c06"
      },
      "source": [
        "x = np.arange(10)\n",
        "x"
      ],
      "execution_count": 0,
      "outputs": [
        {
          "output_type": "execute_result",
          "data": {
            "text/plain": [
              "array([0, 1, 2, 3, 4, 5, 6, 7, 8, 9])"
            ]
          },
          "metadata": {
            "tags": []
          },
          "execution_count": 16
        }
      ]
    },
    {
      "cell_type": "code",
      "metadata": {
        "id": "yl140cemkGJF",
        "colab_type": "code",
        "colab": {},
        "outputId": "456beeb0-72e4-4872-bb7a-1c0b80459c3c"
      },
      "source": [
        "x[:5]  # first five elements"
      ],
      "execution_count": 0,
      "outputs": [
        {
          "output_type": "execute_result",
          "data": {
            "text/plain": [
              "array([0, 1, 2, 3, 4])"
            ]
          },
          "metadata": {
            "tags": []
          },
          "execution_count": 17
        }
      ]
    },
    {
      "cell_type": "code",
      "metadata": {
        "id": "YthCNBhpkGJV",
        "colab_type": "code",
        "colab": {},
        "outputId": "41e47087-4826-40f1-8ece-45e84c20a5fd"
      },
      "source": [
        "x[5:]  # elements after index 5"
      ],
      "execution_count": 0,
      "outputs": [
        {
          "output_type": "execute_result",
          "data": {
            "text/plain": [
              "array([5, 6, 7, 8, 9])"
            ]
          },
          "metadata": {
            "tags": []
          },
          "execution_count": 18
        }
      ]
    },
    {
      "cell_type": "code",
      "metadata": {
        "id": "WSWMAHS3kGJi",
        "colab_type": "code",
        "colab": {},
        "outputId": "1e144d1b-5c20-4474-91d3-982658e01bd3"
      },
      "source": [
        "x[4:7]  # middle sub-array"
      ],
      "execution_count": 0,
      "outputs": [
        {
          "output_type": "execute_result",
          "data": {
            "text/plain": [
              "array([4, 5, 6])"
            ]
          },
          "metadata": {
            "tags": []
          },
          "execution_count": 19
        }
      ]
    },
    {
      "cell_type": "code",
      "metadata": {
        "id": "1ZDI9oSUkGJs",
        "colab_type": "code",
        "colab": {},
        "outputId": "2a132ba4-1fbe-4ccc-d1df-fef2db2b7101"
      },
      "source": [
        "x[::2]  # every other element"
      ],
      "execution_count": 0,
      "outputs": [
        {
          "output_type": "execute_result",
          "data": {
            "text/plain": [
              "array([0, 2, 4, 6, 8])"
            ]
          },
          "metadata": {
            "tags": []
          },
          "execution_count": 20
        }
      ]
    },
    {
      "cell_type": "code",
      "metadata": {
        "id": "QwLUbif3kGJ5",
        "colab_type": "code",
        "colab": {},
        "outputId": "8907e17c-f8f1-4ff8-8e98-a699cb61676e"
      },
      "source": [
        "x[1::2]  # every other element, starting at index 1"
      ],
      "execution_count": 0,
      "outputs": [
        {
          "output_type": "execute_result",
          "data": {
            "text/plain": [
              "array([1, 3, 5, 7, 9])"
            ]
          },
          "metadata": {
            "tags": []
          },
          "execution_count": 21
        }
      ]
    },
    {
      "cell_type": "markdown",
      "metadata": {
        "id": "BODqGT-JkGKF",
        "colab_type": "text"
      },
      "source": [
        "A potentially confusing case is when the ``step`` value is negative.\n",
        "In this case, the defaults for ``start`` and ``stop`` are swapped.\n",
        "This becomes a convenient way to reverse an array:"
      ]
    },
    {
      "cell_type": "code",
      "metadata": {
        "id": "KuBlw-JykGKI",
        "colab_type": "code",
        "colab": {},
        "outputId": "c0600d94-4323-4e3d-8884-3abab0e8fb90"
      },
      "source": [
        "x[::-1]  # all elements, reversed"
      ],
      "execution_count": 0,
      "outputs": [
        {
          "output_type": "execute_result",
          "data": {
            "text/plain": [
              "array([9, 8, 7, 6, 5, 4, 3, 2, 1, 0])"
            ]
          },
          "metadata": {
            "tags": []
          },
          "execution_count": 22
        }
      ]
    },
    {
      "cell_type": "code",
      "metadata": {
        "id": "qx7R0pAZkGKV",
        "colab_type": "code",
        "colab": {},
        "outputId": "215f6f20-d7f1-4336-b06d-d46b3fa895cb"
      },
      "source": [
        "x[5::-2]  # reversed every other from index 5"
      ],
      "execution_count": 0,
      "outputs": [
        {
          "output_type": "execute_result",
          "data": {
            "text/plain": [
              "array([5, 3, 1])"
            ]
          },
          "metadata": {
            "tags": []
          },
          "execution_count": 23
        }
      ]
    },
    {
      "cell_type": "markdown",
      "metadata": {
        "id": "7afOXaZgkGKk",
        "colab_type": "text"
      },
      "source": [
        "### Multi-dimensional subarrays\n",
        "\n",
        "Multi-dimensional slices work in the same way, with multiple slices separated by commas.\n",
        "For example:"
      ]
    },
    {
      "cell_type": "code",
      "metadata": {
        "id": "1SwPNqH5kGKm",
        "colab_type": "code",
        "colab": {},
        "outputId": "f6f8c49c-ac7e-4301-9a64-523fa2f2193e"
      },
      "source": [
        "x2"
      ],
      "execution_count": 0,
      "outputs": [
        {
          "output_type": "execute_result",
          "data": {
            "text/plain": [
              "array([[12,  5,  2,  4],\n",
              "       [ 7,  6,  8,  8],\n",
              "       [ 1,  6,  7,  7]])"
            ]
          },
          "metadata": {
            "tags": []
          },
          "execution_count": 24
        }
      ]
    },
    {
      "cell_type": "code",
      "metadata": {
        "id": "1QRbCJr5kGKu",
        "colab_type": "code",
        "colab": {},
        "outputId": "78983908-f3b3-47a5-c4a1-0832a2983754"
      },
      "source": [
        "x2[:2, :3]  # two rows, three columns"
      ],
      "execution_count": 0,
      "outputs": [
        {
          "output_type": "execute_result",
          "data": {
            "text/plain": [
              "array([[12,  5,  2],\n",
              "       [ 7,  6,  8]])"
            ]
          },
          "metadata": {
            "tags": []
          },
          "execution_count": 25
        }
      ]
    },
    {
      "cell_type": "code",
      "metadata": {
        "id": "GK0OREgFkGLE",
        "colab_type": "code",
        "colab": {},
        "outputId": "64942d36-faf2-4685-e5db-81c614b361c2"
      },
      "source": [
        "x2[:3, ::2]  # all rows, every other column"
      ],
      "execution_count": 0,
      "outputs": [
        {
          "output_type": "execute_result",
          "data": {
            "text/plain": [
              "array([[12,  2],\n",
              "       [ 7,  8],\n",
              "       [ 1,  7]])"
            ]
          },
          "metadata": {
            "tags": []
          },
          "execution_count": 26
        }
      ]
    },
    {
      "cell_type": "markdown",
      "metadata": {
        "id": "fowyqSJtkGLO",
        "colab_type": "text"
      },
      "source": [
        "Finally, subarray dimensions can even be reversed together:"
      ]
    },
    {
      "cell_type": "code",
      "metadata": {
        "id": "WJQ7QW9RkGLQ",
        "colab_type": "code",
        "colab": {},
        "outputId": "79b7684f-91cd-4967-cfa7-3f0be018587e"
      },
      "source": [
        "x2[::-1, ::-1]"
      ],
      "execution_count": 0,
      "outputs": [
        {
          "output_type": "execute_result",
          "data": {
            "text/plain": [
              "array([[ 7,  7,  6,  1],\n",
              "       [ 8,  8,  6,  7],\n",
              "       [ 4,  2,  5, 12]])"
            ]
          },
          "metadata": {
            "tags": []
          },
          "execution_count": 27
        }
      ]
    },
    {
      "cell_type": "markdown",
      "metadata": {
        "id": "-uBB372lkGLY",
        "colab_type": "text"
      },
      "source": [
        "#### Accessing array rows and columns\n",
        "\n",
        "One commonly needed routine is accessing of single rows or columns of an array.\n",
        "This can be done by combining indexing and slicing, using an empty slice marked by a single colon (``:``):"
      ]
    },
    {
      "cell_type": "code",
      "metadata": {
        "id": "Rof3qDL_kGLZ",
        "colab_type": "code",
        "colab": {},
        "outputId": "a6474405-9f1e-4418-85ac-344c3fdb3577"
      },
      "source": [
        "print(x2[:, 0])  # first column of x2"
      ],
      "execution_count": 0,
      "outputs": [
        {
          "output_type": "stream",
          "text": [
            "[12  7  1]\n"
          ],
          "name": "stdout"
        }
      ]
    },
    {
      "cell_type": "code",
      "metadata": {
        "id": "JKJm9RRmkGLj",
        "colab_type": "code",
        "colab": {},
        "outputId": "077b2be4-0804-4b01-b45d-f2ef09f74f96"
      },
      "source": [
        "print(x2[0, :])  # first row of x2"
      ],
      "execution_count": 0,
      "outputs": [
        {
          "output_type": "stream",
          "text": [
            "[12  5  2  4]\n"
          ],
          "name": "stdout"
        }
      ]
    },
    {
      "cell_type": "markdown",
      "metadata": {
        "id": "lnK1-tmhkGLr",
        "colab_type": "text"
      },
      "source": [
        "In the case of row access, the empty slice can be omitted for a more compact syntax:"
      ]
    },
    {
      "cell_type": "code",
      "metadata": {
        "id": "BybySY3mkGLv",
        "colab_type": "code",
        "colab": {},
        "outputId": "6478088f-80b3-4cd7-9d3d-0655a185a424"
      },
      "source": [
        "print(x2[0])  # equivalent to x2[0, :]"
      ],
      "execution_count": 0,
      "outputs": [
        {
          "output_type": "stream",
          "text": [
            "[12  5  2  4]\n"
          ],
          "name": "stdout"
        }
      ]
    },
    {
      "cell_type": "markdown",
      "metadata": {
        "id": "91YFa7KXkGMB",
        "colab_type": "text"
      },
      "source": [
        "### Subarrays as no-copy views\n",
        "\n",
        "One important–and extremely useful–thing to know about array slices is that they return *views* rather than *copies* of the array data.\n",
        "This is one area in which NumPy array slicing differs from Python list slicing: in lists, slices will be copies.\n",
        "Consider our two-dimensional array from before:"
      ]
    },
    {
      "cell_type": "code",
      "metadata": {
        "id": "AZzqyrcCkGMD",
        "colab_type": "code",
        "colab": {},
        "outputId": "ff7b3203-f4b7-4e31-b881-32b074d1b86b"
      },
      "source": [
        "print(x2)"
      ],
      "execution_count": 0,
      "outputs": [
        {
          "output_type": "stream",
          "text": [
            "[[12  5  2  4]\n",
            " [ 7  6  8  8]\n",
            " [ 1  6  7  7]]\n"
          ],
          "name": "stdout"
        }
      ]
    },
    {
      "cell_type": "markdown",
      "metadata": {
        "id": "RgujxsbkkGMK",
        "colab_type": "text"
      },
      "source": [
        "Let's extract a $2 \\times 2$ subarray from this:"
      ]
    },
    {
      "cell_type": "code",
      "metadata": {
        "id": "zLrk8mwgkGMM",
        "colab_type": "code",
        "colab": {},
        "outputId": "3078b8af-acd5-4936-e7f8-7488e3008a75"
      },
      "source": [
        "x2_sub = x2[:2, :2]\n",
        "print(x2_sub)"
      ],
      "execution_count": 0,
      "outputs": [
        {
          "output_type": "stream",
          "text": [
            "[[12  5]\n",
            " [ 7  6]]\n"
          ],
          "name": "stdout"
        }
      ]
    },
    {
      "cell_type": "markdown",
      "metadata": {
        "id": "G4jvEeKVkGMV",
        "colab_type": "text"
      },
      "source": [
        "Now if we modify this subarray, we'll see that the original array is changed! Observe:"
      ]
    },
    {
      "cell_type": "code",
      "metadata": {
        "id": "YFW1yiZrkGMY",
        "colab_type": "code",
        "colab": {},
        "outputId": "f00b96ad-998a-4621-eaf2-62838db01cd6"
      },
      "source": [
        "x2_sub[0, 0] = 99\n",
        "print(x2_sub)"
      ],
      "execution_count": 0,
      "outputs": [
        {
          "output_type": "stream",
          "text": [
            "[[99  5]\n",
            " [ 7  6]]\n"
          ],
          "name": "stdout"
        }
      ]
    },
    {
      "cell_type": "code",
      "metadata": {
        "id": "3ltZe3U4kGM-",
        "colab_type": "code",
        "colab": {},
        "outputId": "0b4938e7-1308-44e8-be0b-b85a4bbd0551"
      },
      "source": [
        "print(x2)"
      ],
      "execution_count": 0,
      "outputs": [
        {
          "output_type": "stream",
          "text": [
            "[[99  5  2  4]\n",
            " [ 7  6  8  8]\n",
            " [ 1  6  7  7]]\n"
          ],
          "name": "stdout"
        }
      ]
    },
    {
      "cell_type": "markdown",
      "metadata": {
        "id": "74jfb27VkGNF",
        "colab_type": "text"
      },
      "source": [
        "This default behavior is actually quite useful: it means that when we work with large datasets, we can access and process pieces of these datasets without the need to copy the underlying data buffer."
      ]
    },
    {
      "cell_type": "markdown",
      "metadata": {
        "id": "wg4dQn8VkGNH",
        "colab_type": "text"
      },
      "source": [
        "### Creating copies of arrays\n",
        "\n",
        "Despite the nice features of array views, it is sometimes useful to instead explicitly copy the data within an array or a subarray. This can be most easily done with the ``copy()`` method:"
      ]
    },
    {
      "cell_type": "code",
      "metadata": {
        "id": "sxnkRM4IkGNI",
        "colab_type": "code",
        "colab": {},
        "outputId": "39740e9c-ed27-4796-d50d-d9699e306510"
      },
      "source": [
        "x2_sub_copy = x2[:2, :2].copy()\n",
        "print(x2_sub_copy)"
      ],
      "execution_count": 0,
      "outputs": [
        {
          "output_type": "stream",
          "text": [
            "[[99  5]\n",
            " [ 7  6]]\n"
          ],
          "name": "stdout"
        }
      ]
    },
    {
      "cell_type": "markdown",
      "metadata": {
        "id": "W527TqcikGNM",
        "colab_type": "text"
      },
      "source": [
        "If we now modify this subarray, the original array is not touched:"
      ]
    },
    {
      "cell_type": "code",
      "metadata": {
        "id": "xomCthMBkGNa",
        "colab_type": "code",
        "colab": {},
        "outputId": "68c91c5c-b8fb-4b06-8fe3-fe7db6372233"
      },
      "source": [
        "x2_sub_copy[0, 0] = 42\n",
        "print(x2_sub_copy)"
      ],
      "execution_count": 0,
      "outputs": [
        {
          "output_type": "stream",
          "text": [
            "[[42  5]\n",
            " [ 7  6]]\n"
          ],
          "name": "stdout"
        }
      ]
    },
    {
      "cell_type": "code",
      "metadata": {
        "id": "F14DxvnwkGNw",
        "colab_type": "code",
        "colab": {},
        "outputId": "09d54c93-4958-4b6f-f22d-163a09742456"
      },
      "source": [
        "print(x2)"
      ],
      "execution_count": 0,
      "outputs": [
        {
          "output_type": "stream",
          "text": [
            "[[99  5  2  4]\n",
            " [ 7  6  8  8]\n",
            " [ 1  6  7  7]]\n"
          ],
          "name": "stdout"
        }
      ]
    },
    {
      "cell_type": "markdown",
      "metadata": {
        "id": "pXlKhNLckGN-",
        "colab_type": "text"
      },
      "source": [
        "## Reshaping of Arrays\n",
        "\n",
        "Another useful type of operation is reshaping of arrays.\n",
        "The most flexible way of doing this is with the ``reshape`` method.\n",
        "For example, if you want to put the numbers 1 through 9 in a $3 \\times 3$ grid, you can do the following:"
      ]
    },
    {
      "cell_type": "code",
      "metadata": {
        "id": "0cGDAbMekGOD",
        "colab_type": "code",
        "colab": {},
        "outputId": "9c41649b-aca5-4512-f7f2-3a12af9b810d"
      },
      "source": [
        "grid = np.arange(1, 10).reshape((3, 3))\n",
        "print(grid)"
      ],
      "execution_count": 0,
      "outputs": [
        {
          "output_type": "stream",
          "text": [
            "[[1 2 3]\n",
            " [4 5 6]\n",
            " [7 8 9]]\n"
          ],
          "name": "stdout"
        }
      ]
    },
    {
      "cell_type": "markdown",
      "metadata": {
        "id": "Vt8tHMQjkGOw",
        "colab_type": "text"
      },
      "source": [
        "Note that for this to work, the size of the initial array must match the size of the reshaped array. \n",
        "Where possible, the ``reshape`` method will use a no-copy view of the initial array, but with non-contiguous memory buffers this is not always the case.\n",
        "\n",
        "Another common reshaping pattern is the conversion of a one-dimensional array into a two-dimensional row or column matrix.\n",
        "This can be done with the ``reshape`` method, or more easily done by making use of the ``newaxis`` keyword within a slice operation:"
      ]
    },
    {
      "cell_type": "code",
      "metadata": {
        "id": "mMfKYhZWkGOz",
        "colab_type": "code",
        "colab": {},
        "outputId": "85d292f1-35f1-4d38-a935-66c90b370a9e"
      },
      "source": [
        "x = np.array([1, 2, 3])\n",
        "\n",
        "# row vector via reshape\n",
        "x.reshape((1, 3))"
      ],
      "execution_count": 0,
      "outputs": [
        {
          "output_type": "execute_result",
          "data": {
            "text/plain": [
              "array([[1, 2, 3]])"
            ]
          },
          "metadata": {
            "tags": []
          },
          "execution_count": 39
        }
      ]
    },
    {
      "cell_type": "code",
      "metadata": {
        "id": "mnvgim5RkGPA",
        "colab_type": "code",
        "colab": {},
        "outputId": "0a347b78-f51f-4dd7-c9a8-39ac9e352c77"
      },
      "source": [
        "# row vector via newaxis\n",
        "x[np.newaxis, :]"
      ],
      "execution_count": 0,
      "outputs": [
        {
          "output_type": "execute_result",
          "data": {
            "text/plain": [
              "array([[1, 2, 3]])"
            ]
          },
          "metadata": {
            "tags": []
          },
          "execution_count": 40
        }
      ]
    },
    {
      "cell_type": "code",
      "metadata": {
        "id": "RC3jzLGvkGPF",
        "colab_type": "code",
        "colab": {},
        "outputId": "6f7e059c-20ff-4897-e145-ca3f01d5c9e4"
      },
      "source": [
        "# column vector via reshape\n",
        "x.reshape((3, 1))"
      ],
      "execution_count": 0,
      "outputs": [
        {
          "output_type": "execute_result",
          "data": {
            "text/plain": [
              "array([[1],\n",
              "       [2],\n",
              "       [3]])"
            ]
          },
          "metadata": {
            "tags": []
          },
          "execution_count": 41
        }
      ]
    },
    {
      "cell_type": "code",
      "metadata": {
        "id": "XkaTayaIkGPU",
        "colab_type": "code",
        "colab": {},
        "outputId": "d4add9a3-3b8d-497d-c3f0-ad236f917f3f"
      },
      "source": [
        "# column vector via newaxis\n",
        "x[:, np.newaxis]"
      ],
      "execution_count": 0,
      "outputs": [
        {
          "output_type": "execute_result",
          "data": {
            "text/plain": [
              "array([[1],\n",
              "       [2],\n",
              "       [3]])"
            ]
          },
          "metadata": {
            "tags": []
          },
          "execution_count": 42
        }
      ]
    },
    {
      "cell_type": "markdown",
      "metadata": {
        "id": "yz1lHOqKkGPl",
        "colab_type": "text"
      },
      "source": [
        "We will see this type of transformation often throughout the remainder of the book."
      ]
    },
    {
      "cell_type": "markdown",
      "metadata": {
        "id": "03VF4IUjkGPq",
        "colab_type": "text"
      },
      "source": [
        "## Array Concatenation and Splitting\n",
        "\n",
        "All of the preceding routines worked on single arrays. It's also possible to combine multiple arrays into one, and to conversely split a single array into multiple arrays. We'll take a look at those operations here."
      ]
    },
    {
      "cell_type": "markdown",
      "metadata": {
        "id": "DYlRnAqYkGPt",
        "colab_type": "text"
      },
      "source": [
        "### Concatenation of arrays\n",
        "\n",
        "Concatenation, or joining of two arrays in NumPy, is primarily accomplished using the routines ``np.concatenate``, ``np.vstack``, and ``np.hstack``.\n",
        "``np.concatenate`` takes a tuple or list of arrays as its first argument, as we can see here:"
      ]
    },
    {
      "cell_type": "code",
      "metadata": {
        "id": "6pg_E6EhkGPv",
        "colab_type": "code",
        "colab": {},
        "outputId": "831eef71-4000-4dc7-a54d-02ab874664c9"
      },
      "source": [
        "x = np.array([1, 2, 3])\n",
        "y = np.array([3, 2, 1])\n",
        "np.concatenate([x, y])"
      ],
      "execution_count": 0,
      "outputs": [
        {
          "output_type": "execute_result",
          "data": {
            "text/plain": [
              "array([1, 2, 3, 3, 2, 1])"
            ]
          },
          "metadata": {
            "tags": []
          },
          "execution_count": 43
        }
      ]
    },
    {
      "cell_type": "markdown",
      "metadata": {
        "id": "tWnXER_ikGP0",
        "colab_type": "text"
      },
      "source": [
        "You can also concatenate more than two arrays at once:"
      ]
    },
    {
      "cell_type": "code",
      "metadata": {
        "id": "kRIICFREkGP2",
        "colab_type": "code",
        "colab": {},
        "outputId": "d76d7a1c-641b-4775-d030-dd40bdb6212d"
      },
      "source": [
        "z = [99, 99, 99]\n",
        "print(np.concatenate([x, y, z]))"
      ],
      "execution_count": 0,
      "outputs": [
        {
          "output_type": "stream",
          "text": [
            "[ 1  2  3  3  2  1 99 99 99]\n"
          ],
          "name": "stdout"
        }
      ]
    },
    {
      "cell_type": "markdown",
      "metadata": {
        "id": "vTflsUHykGP8",
        "colab_type": "text"
      },
      "source": [
        "It can also be used for two-dimensional arrays:"
      ]
    },
    {
      "cell_type": "code",
      "metadata": {
        "id": "WsXHmyFKkGP9",
        "colab_type": "code",
        "colab": {}
      },
      "source": [
        "grid = np.array([[1, 2, 3],\n",
        "                 [4, 5, 6]])"
      ],
      "execution_count": 0,
      "outputs": []
    },
    {
      "cell_type": "code",
      "metadata": {
        "id": "0rMgYqpTkGQF",
        "colab_type": "code",
        "colab": {},
        "outputId": "2dc5f407-c69e-42f0-f498-474f35ade033"
      },
      "source": [
        "# concatenate along the first axis\n",
        "np.concatenate([grid, grid])"
      ],
      "execution_count": 0,
      "outputs": [
        {
          "output_type": "execute_result",
          "data": {
            "text/plain": [
              "array([[1, 2, 3],\n",
              "       [4, 5, 6],\n",
              "       [1, 2, 3],\n",
              "       [4, 5, 6]])"
            ]
          },
          "metadata": {
            "tags": []
          },
          "execution_count": 46
        }
      ]
    },
    {
      "cell_type": "code",
      "metadata": {
        "id": "axsr0n9TkGQU",
        "colab_type": "code",
        "colab": {},
        "outputId": "b16f33d8-1ea4-4df0-d6ce-6aa1d500d8f4"
      },
      "source": [
        "# concatenate along the second axis (zero-indexed)\n",
        "np.concatenate([grid, grid], axis=1)"
      ],
      "execution_count": 0,
      "outputs": [
        {
          "output_type": "execute_result",
          "data": {
            "text/plain": [
              "array([[1, 2, 3, 1, 2, 3],\n",
              "       [4, 5, 6, 4, 5, 6]])"
            ]
          },
          "metadata": {
            "tags": []
          },
          "execution_count": 47
        }
      ]
    },
    {
      "cell_type": "markdown",
      "metadata": {
        "id": "mBMlOio8kGQb",
        "colab_type": "text"
      },
      "source": [
        "For working with arrays of mixed dimensions, it can be clearer to use the ``np.vstack`` (vertical stack) and ``np.hstack`` (horizontal stack) functions:"
      ]
    },
    {
      "cell_type": "code",
      "metadata": {
        "id": "fB_zpeU6kGQc",
        "colab_type": "code",
        "colab": {},
        "outputId": "92ae9fb1-b707-487a-f909-dc9008bf9e25"
      },
      "source": [
        "x = np.array([1, 2, 3])\n",
        "grid = np.array([[9, 8, 7],\n",
        "                 [6, 5, 4]])\n",
        "\n",
        "# vertically stack the arrays\n",
        "np.vstack([x, grid])"
      ],
      "execution_count": 0,
      "outputs": [
        {
          "output_type": "execute_result",
          "data": {
            "text/plain": [
              "array([[1, 2, 3],\n",
              "       [9, 8, 7],\n",
              "       [6, 5, 4]])"
            ]
          },
          "metadata": {
            "tags": []
          },
          "execution_count": 48
        }
      ]
    },
    {
      "cell_type": "code",
      "metadata": {
        "id": "9HS7zqv-kGQh",
        "colab_type": "code",
        "colab": {},
        "outputId": "88f4fa01-0522-4e34-ccf8-316b8f4f2f3f"
      },
      "source": [
        "# horizontally stack the arrays\n",
        "y = np.array([[99],\n",
        "              [99]])\n",
        "np.hstack([grid, y])"
      ],
      "execution_count": 0,
      "outputs": [
        {
          "output_type": "execute_result",
          "data": {
            "text/plain": [
              "array([[ 9,  8,  7, 99],\n",
              "       [ 6,  5,  4, 99]])"
            ]
          },
          "metadata": {
            "tags": []
          },
          "execution_count": 49
        }
      ]
    },
    {
      "cell_type": "markdown",
      "metadata": {
        "id": "rL8rF2vSkGQs",
        "colab_type": "text"
      },
      "source": [
        "Similary, ``np.dstack`` will stack arrays along the third axis."
      ]
    },
    {
      "cell_type": "markdown",
      "metadata": {
        "id": "aJYnz6UlkGQu",
        "colab_type": "text"
      },
      "source": [
        "### Splitting of arrays\n",
        "\n",
        "The opposite of concatenation is splitting, which is implemented by the functions ``np.split``, ``np.hsplit``, and ``np.vsplit``.  For each of these, we can pass a list of indices giving the split points:"
      ]
    },
    {
      "cell_type": "code",
      "metadata": {
        "id": "OeHULp6lkGQw",
        "colab_type": "code",
        "colab": {},
        "outputId": "b5aeb4c7-8b86-4817-e4c1-19ad3a2d8e99"
      },
      "source": [
        "x = [1, 2, 3, 99, 99, 3, 2, 1]\n",
        "x1, x2, x3 = np.split(x, [3, 5])\n",
        "print(x1, x2, x3)"
      ],
      "execution_count": 0,
      "outputs": [
        {
          "output_type": "stream",
          "text": [
            "[1 2 3] [99 99] [3 2 1]\n"
          ],
          "name": "stdout"
        }
      ]
    },
    {
      "cell_type": "markdown",
      "metadata": {
        "id": "3rvUxzeukGRP",
        "colab_type": "text"
      },
      "source": [
        "Notice that *N* split-points, leads to *N + 1* subarrays.\n",
        "The related functions ``np.hsplit`` and ``np.vsplit`` are similar:"
      ]
    },
    {
      "cell_type": "code",
      "metadata": {
        "id": "Ktt94N0NkGRQ",
        "colab_type": "code",
        "colab": {},
        "outputId": "9c1cd618-08af-4910-ce19-07b1ae3ea8a0"
      },
      "source": [
        "grid = np.arange(16).reshape((4, 4))\n",
        "grid"
      ],
      "execution_count": 0,
      "outputs": [
        {
          "output_type": "execute_result",
          "data": {
            "text/plain": [
              "array([[ 0,  1,  2,  3],\n",
              "       [ 4,  5,  6,  7],\n",
              "       [ 8,  9, 10, 11],\n",
              "       [12, 13, 14, 15]])"
            ]
          },
          "metadata": {
            "tags": []
          },
          "execution_count": 51
        }
      ]
    },
    {
      "cell_type": "code",
      "metadata": {
        "id": "0uvOcH2gkGRV",
        "colab_type": "code",
        "colab": {},
        "outputId": "43f0d579-87ef-45d2-8217-9454bec353eb"
      },
      "source": [
        "upper, lower = np.vsplit(grid, [2])\n",
        "print(upper)\n",
        "print(lower)"
      ],
      "execution_count": 0,
      "outputs": [
        {
          "output_type": "stream",
          "text": [
            "[[0 1 2 3]\n",
            " [4 5 6 7]]\n",
            "[[ 8  9 10 11]\n",
            " [12 13 14 15]]\n"
          ],
          "name": "stdout"
        }
      ]
    },
    {
      "cell_type": "code",
      "metadata": {
        "id": "GV4ujtgXkGRb",
        "colab_type": "code",
        "colab": {},
        "outputId": "e4c67f5e-fe30-47b0-a654-68f2d0f78a97"
      },
      "source": [
        "left, right = np.hsplit(grid, [2])\n",
        "print(left)\n",
        "print(right)"
      ],
      "execution_count": 0,
      "outputs": [
        {
          "output_type": "stream",
          "text": [
            "[[ 0  1]\n",
            " [ 4  5]\n",
            " [ 8  9]\n",
            " [12 13]]\n",
            "[[ 2  3]\n",
            " [ 6  7]\n",
            " [10 11]\n",
            " [14 15]]\n"
          ],
          "name": "stdout"
        }
      ]
    },
    {
      "cell_type": "markdown",
      "metadata": {
        "id": "HHFvbeJmkGRj",
        "colab_type": "text"
      },
      "source": [
        "Similarly, ``np.dsplit`` will split arrays along the third axis."
      ]
    },
    {
      "cell_type": "markdown",
      "metadata": {
        "id": "ghxVLonDkGRl",
        "colab_type": "text"
      },
      "source": [
        "<!--NAVIGATION-->\n",
        "< [Understanding Data Types in Python](02.01-Understanding-Data-Types.ipynb) | [Contents](Index.ipynb) | [Computation on NumPy Arrays: Universal Functions](02.03-Computation-on-arrays-ufuncs.ipynb) >\n",
        "\n",
        "<a href=\"https://colab.research.google.com/github/jakevdp/PythonDataScienceHandbook/blob/master/notebooks/02.02-The-Basics-Of-NumPy-Arrays.ipynb\"><img align=\"left\" src=\"https://colab.research.google.com/assets/colab-badge.svg\" alt=\"Open in Colab\" title=\"Open and Execute in Google Colaboratory\"></a>\n"
      ]
    }
  ]
}