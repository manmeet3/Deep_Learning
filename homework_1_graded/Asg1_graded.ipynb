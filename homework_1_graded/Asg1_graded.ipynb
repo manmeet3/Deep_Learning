{
 "cells": [
  {
   "cell_type": "markdown",
   "metadata": {
    "colab_type": "text",
    "id": "WUqMQnflu6gk"
   },
   "source": [
    "## Requirements \n",
    "* (done) Apply **mini-batch gradient descent** with appropriate batch size\n",
    "* (done) Use appropriate **learning rate** (can be adaptive per epoch)\n",
    "* (todo) Apply **dropout** - find appropriate dropout rate at each layer\n",
    "* (done) Initialize random **weights** properly before training\n",
    "* (done) Do basic image **augmentation** of training data using Keras\n",
    "* (todo -- currently only 2 layers after input) Use **3 or more layers** with appropriate **number of neurons** per layer\n",
    "* (done) Use **relu activation layer** in the right places\n",
    "* (done) **Normalize and scale** the input before training with Keras\n",
    "* (todo) Include **metrics**: testing, training accuracy validation curves and confusion matrix\n",
    "* (todo) Display top common errors"
   ]
  },
  {
   "cell_type": "code",
   "execution_count": 479,
   "metadata": {
    "colab": {},
    "colab_type": "code",
    "id": "h46hwvalkXY3"
   },
   "outputs": [],
   "source": [
    "import sys\n",
    "import pandas as pd\n",
    "import numpy as np\n",
    "import matplotlib.pyplot as plt\n",
    "import matplotlib.image as mpimg\n",
    "import seaborn as sns\n",
    "%matplotlib inline\n",
    "\n",
    "np.random.seed(2)"
   ]
  },
  {
   "cell_type": "code",
   "execution_count": 480,
   "metadata": {},
   "outputs": [],
   "source": [
    "from keras.datasets import mnist\n",
    "from keras.utils import np_utils\n",
    "from keras.preprocessing.image import ImageDataGenerator"
   ]
  },
  {
   "cell_type": "markdown",
   "metadata": {},
   "source": [
    "## Load dataset"
   ]
  },
  {
   "cell_type": "code",
   "execution_count": 481,
   "metadata": {},
   "outputs": [],
   "source": [
    "(x_train, y_train), (x_test, y_test) = mnist.load_data()"
   ]
  },
  {
   "cell_type": "code",
   "execution_count": 482,
   "metadata": {},
   "outputs": [
    {
     "data": {
      "text/plain": [
       "(60000, 28, 28)"
      ]
     },
     "execution_count": 482,
     "metadata": {},
     "output_type": "execute_result"
    }
   ],
   "source": [
    "x_train.shape"
   ]
  },
  {
   "cell_type": "code",
   "execution_count": 483,
   "metadata": {},
   "outputs": [
    {
     "data": {
      "text/plain": [
       "(10000, 28, 28)"
      ]
     },
     "execution_count": 483,
     "metadata": {},
     "output_type": "execute_result"
    }
   ],
   "source": [
    "x_test.shape"
   ]
  },
  {
   "cell_type": "code",
   "execution_count": 484,
   "metadata": {},
   "outputs": [],
   "source": [
    "x_train = x_train[0:2000]\n",
    "y_train = y_train[0:2000]"
   ]
  },
  {
   "cell_type": "code",
   "execution_count": 504,
   "metadata": {},
   "outputs": [
    {
     "ename": "IndexError",
     "evalue": "too many indices for array",
     "output_type": "error",
     "traceback": [
      "\u001b[1;31m---------------------------------------------------------------------------\u001b[0m",
      "\u001b[1;31mIndexError\u001b[0m                                Traceback (most recent call last)",
      "\u001b[1;32m<ipython-input-504-e283d41d8210>\u001b[0m in \u001b[0;36m<module>\u001b[1;34m\u001b[0m\n\u001b[1;32m----> 1\u001b[1;33m \u001b[0mg\u001b[0m \u001b[1;33m=\u001b[0m \u001b[0mplt\u001b[0m\u001b[1;33m.\u001b[0m\u001b[0mimshow\u001b[0m\u001b[1;33m(\u001b[0m\u001b[0mx_train\u001b[0m\u001b[1;33m[\u001b[0m\u001b[1;36m1\u001b[0m\u001b[1;33m]\u001b[0m\u001b[1;33m[\u001b[0m\u001b[1;33m:\u001b[0m\u001b[1;33m,\u001b[0m\u001b[1;33m:\u001b[0m\u001b[1;33m]\u001b[0m\u001b[1;33m)\u001b[0m\u001b[1;33m\u001b[0m\u001b[1;33m\u001b[0m\u001b[0m\n\u001b[0m",
      "\u001b[1;31mIndexError\u001b[0m: too many indices for array"
     ]
    }
   ],
   "source": [
    "g = plt.imshow(x_train[3][:,:])"
   ]
  },
  {
   "cell_type": "markdown",
   "metadata": {},
   "source": [
    "## Training dataset augmentation\n",
    "\n",
    "Using Keras Datagen"
   ]
  },
  {
   "cell_type": "code",
   "execution_count": 486,
   "metadata": {},
   "outputs": [],
   "source": [
    "x_train_augmented = x_train[0:500]\n",
    "y_train_augmented = y_train[0:500]"
   ]
  },
  {
   "cell_type": "code",
   "execution_count": 487,
   "metadata": {},
   "outputs": [],
   "source": [
    "x_train_augmented = x_train_augmented.reshape(-1,28,28,1)"
   ]
  },
  {
   "cell_type": "code",
   "execution_count": 488,
   "metadata": {},
   "outputs": [
    {
     "data": {
      "text/plain": [
       "(500, 28, 28, 1)"
      ]
     },
     "execution_count": 488,
     "metadata": {},
     "output_type": "execute_result"
    }
   ],
   "source": [
    "x_train_augmented.shape"
   ]
  },
  {
   "cell_type": "code",
   "execution_count": 489,
   "metadata": {},
   "outputs": [],
   "source": [
    "# Augment 1k training dataset images\n",
    "# Reference: https://www.kaggle.com/yassineghouzam/introduction-to-cnn-keras-0-997-top-6\n",
    "\n",
    "datagen = ImageDataGenerator(\n",
    "        featurewise_center=False,  # set input mean to 0 over the dataset\n",
    "        samplewise_center=False,  # set each sample mean to 0\n",
    "        featurewise_std_normalization=False,  # divide inputs by std of the dataset\n",
    "        samplewise_std_normalization=False,  # divide each input by its std\n",
    "        zca_whitening=False,  # apply ZCA whitening\n",
    "        rotation_range=10,  # randomly rotate images in the range (degrees, 0 to 180)\n",
    "        zoom_range = 0.1, # Randomly zoom image \n",
    "        width_shift_range=0.1,  # randomly shift images horizontally (fraction of total width)\n",
    "        height_shift_range=0.1,  # randomly shift images vertically (fraction of total height)\n",
    "        horizontal_flip=False,  # randomly flip images\n",
    "        vertical_flip=False)  # randomly flip images\n",
    "\n",
    "datagen.fit(x_train_augmented)"
   ]
  },
  {
   "cell_type": "code",
   "execution_count": 490,
   "metadata": {},
   "outputs": [],
   "source": [
    "# Use datagen.flow to obtain the entire batch at once and prepend to original dataset.\n",
    "x_train2 = None\n",
    "for x_batch, y_batch in datagen.flow(x_train_augmented, y_train_augmented, batch_size=len(x_train_augmented)):\n",
    "    x_train2 = x_batch\n",
    "    break"
   ]
  },
  {
   "cell_type": "code",
   "execution_count": 491,
   "metadata": {},
   "outputs": [],
   "source": [
    "# Re-shape the augmented dataset into (num_instances, width, height)\n",
    "x_train_augmented = x_train2.reshape(len(x_train_augmented), 28, 28)"
   ]
  },
  {
   "cell_type": "code",
   "execution_count": 492,
   "metadata": {},
   "outputs": [],
   "source": [
    "x_train[0:500] = x_train_augmented"
   ]
  },
  {
   "cell_type": "code",
   "execution_count": 503,
   "metadata": {},
   "outputs": [
    {
     "data": {
      "image/png": "[encoded data removed]",
      "text/plain": [
       "<Figure size 432x288 with 1 Axes>"
      ]
     },
     "metadata": {
      "needs_background": "light"
     },
     "output_type": "display_data"
    }
   ],
   "source": [
    "g = plt.imshow(x_train_augmented[3][:,:])"
   ]
  },
  {
   "cell_type": "markdown",
   "metadata": {},
   "source": [
    "#### The above two images look the same.."
   ]
  },
  {
   "cell_type": "code",
   "execution_count": 494,
   "metadata": {},
   "outputs": [
    {
     "data": {
      "text/plain": [
       "False"
      ]
     },
     "execution_count": 494,
     "metadata": {},
     "output_type": "execute_result"
    }
   ],
   "source": [
    "np.array_equal(x_train_augmented[5], x_train[5])"
   ]
  },
  {
   "cell_type": "markdown",
   "metadata": {},
   "source": [
    "#### Looks like Keras datagen actually did some augmentation. Not enough to be visible"
   ]
  },
  {
   "cell_type": "markdown",
   "metadata": {},
   "source": [
    "## Scaling and Normalization\n",
    "The training data is 1 3D array of (digit_label, pixel width, pixel height). For our MLP to run gradient descent, the width and height must be converted into a vector of 784 pixels.\n",
    "\n",
    "This is accomplished using numpy's reshape() function."
   ]
  },
  {
   "cell_type": "code",
   "execution_count": 497,
   "metadata": {},
   "outputs": [],
   "source": [
    "num_pixels = x_train.shape[1] * x_train.shape[2]\n",
    "\n",
    "# Scale input (examples, width, height) --> (examples, width*height)\n",
    "x_train = x_train.reshape((x_train.shape[0], num_pixels)).astype('float32')\n",
    "x_test = x_test.reshape((x_test.shape[0], num_pixels))"
   ]
  },
  {
   "cell_type": "code",
   "execution_count": 498,
   "metadata": {},
   "outputs": [],
   "source": [
    "# Normalize pixel values from 0-255 to 0-1\n",
    "x_train = x_train / 255\n",
    "x_test = x_test / 255"
   ]
  },
  {
   "cell_type": "markdown",
   "metadata": {},
   "source": [
    "## One hot encode the labels\n",
    "\n",
    "One hot encoding essentially transforms the categorical values into a matrix where their existence or absence is marked by 1 or 0, respectively."
   ]
  },
  {
   "cell_type": "code",
   "execution_count": 499,
   "metadata": {},
   "outputs": [],
   "source": [
    "# one hot encode outputs\n",
    "y_train = np_utils.to_categorical(y_train)\n",
    "y_test = np_utils.to_categorical(y_test)\n",
    "num_classes = y_test.shape[1]"
   ]
  },
  {
   "cell_type": "markdown",
   "metadata": {},
   "source": [
    "## Training functions\n",
    "\n",
    "* Relu\n",
    "* Mini-batch gradient descent based train()"
   ]
  },
  {
   "cell_type": "code",
   "execution_count": 500,
   "metadata": {
    "colab": {},
    "colab_type": "code",
    "id": "TApeoxxEkY-r"
   },
   "outputs": [],
   "source": [
    "def relu(x):\n",
    "    return (x >= 0) * x\n",
    "\n",
    "def relu2deriv(output):\n",
    "    return output >= 0"
   ]
  },
  {
   "cell_type": "code",
   "execution_count": 501,
   "metadata": {
    "colab": {},
    "colab_type": "code",
    "id": "Vehw6MM7q-8j"
   },
   "outputs": [],
   "source": [
    "'''\n",
    "Runs a 3 layer mini batch gradient descent \n",
    "\n",
    "@ params: images\n",
    "@ retval: void\n",
    "''' \n",
    "def train(images, labels, test_images, test_labels):\n",
    "    batch_size = 100\n",
    "\n",
    "    alpha, iterations = (0.001, 300)\n",
    "    \n",
    "    # MNIST dataset specific settings and hidden layer neuron size\n",
    "    pixels_per_image, num_labels, hidden_size = (784, 10, 100)\n",
    "\n",
    "    # Weight initialization for various layers -- # of neurons based on the tuple passed to np.random\n",
    "    weights_0_1 = 0.2 * np.random.random((pixels_per_image, hidden_size)) - 0.1\n",
    "    #weights_1_2 = 0.2 * np.random.random((hidden_size, hidden_size//2)) - 0.1\n",
    "    weights_1_2 = 0.2 * np.random.random((hidden_size, num_labels)) - 0.1\n",
    "    \n",
    "    for j in range(iterations):\n",
    "        error, correct_cnt = (0.0, 0)\n",
    "      \n",
    "        for i in range(int(len(images) / batch_size)):\n",
    "            batch_start, batch_end = ((i * batch_size), ((i+1) * batch_size))\n",
    "\n",
    "            layer_0 = images[batch_start:batch_end]\n",
    "            layer_1 = relu(np.dot(layer_0, weights_0_1))\n",
    "            dropout_mask = np.random.randint(2, size=layer_1.shape)\n",
    "            layer_1 *= dropout_mask * 2\n",
    "            layer_2 = np.dot(layer_1, weights_1_2)\n",
    "\n",
    "            error += np.sum((labels[batch_start:batch_end] - layer_2) ** 2)\n",
    "            for k in range(batch_size):\n",
    "                correct_cnt += int(np.argmax(layer_2[k:k+1])) == np.argmax(labels[batch_start+k:batch_start+k+1])\n",
    "\n",
    "                layer_2_delta = (labels[batch_start:batch_end] - layer_2) / batch_size\n",
    "                layer_1_delta = layer_2_delta.dot(weights_1_2.T) * relu2deriv(layer_1)\n",
    "                layer_1_delta *= dropout_mask\n",
    "\n",
    "                weights_1_2 += alpha * layer_1.T.dot(layer_2_delta)\n",
    "                weights_0_1 += alpha * layer_0.T.dot(layer_1_delta)\n",
    "\n",
    "        if(j%10 == 0):\n",
    "            test_error = 0.0\n",
    "            test_correct_cnt = 0\n",
    "\n",
    "            for i in range(len(test_images)):\n",
    "                layer_0 = test_images[i:i+1]\n",
    "                layer_1 = relu(np.dot(layer_0,weights_0_1))\n",
    "                layer_2 = np.dot(layer_1, weights_1_2)\n",
    "\n",
    "                test_error += np.sum((test_labels[i:i+1] - layer_2) ** 2)\n",
    "                test_correct_cnt += int(np.argmax(layer_2) == \\\n",
    "                                         np.argmax(test_labels[i:i+1]))\n",
    "\n",
    "            sys.stdout.write(\"\\n\" + \\\n",
    "            \"I:\" + str(j) + \\\n",
    "            \" Test-Err:\" + str(test_error/ float(len(test_images)))[0:5] +\\\n",
    "            \" Test-Acc:\" + str(test_correct_cnt/ float(len(test_images)))+\\\n",
    "            \" Train-Err:\" + str(error/ float(len(images)))[0:5] +\\\n",
    "            \" Train-Acc:\" + str(correct_cnt/ float(len(images))))\n"
   ]
  },
  {
   "cell_type": "code",
   "execution_count": 502,
   "metadata": {},
   "outputs": [
    {
     "name": "stdout",
     "output_type": "stream",
     "text": [
      "\n",
      "I:0 Test-Err:0.742 Test-Acc:0.546 Train-Err:1.139 Train-Acc:0.1995\n",
      "I:10 Test-Err:0.553 Test-Acc:0.7794 Train-Err:0.709 Train-Acc:0.5325\n",
      "I:20 Test-Err:0.501 Test-Acc:0.7923 Train-Err:0.670 Train-Acc:0.5715\n",
      "I:30 Test-Err:0.467 Test-Acc:0.8054 Train-Err:0.645 Train-Acc:0.5745\n",
      "I:40 Test-Err:0.445 Test-Acc:0.807 Train-Err:0.619 Train-Acc:0.614\n",
      "I:50 Test-Err:0.443 Test-Acc:0.8168 Train-Err:0.627 Train-Acc:0.6085\n",
      "I:60 Test-Err:0.443 Test-Acc:0.8153 Train-Err:0.622 Train-Acc:0.604\n",
      "I:70 Test-Err:0.432 Test-Acc:0.8126 Train-Err:0.617 Train-Acc:0.601\n",
      "I:80 Test-Err:0.436 Test-Acc:0.8113 Train-Err:0.617 Train-Acc:0.605\n",
      "I:90 Test-Err:0.430 Test-Acc:0.8091 Train-Err:0.611 Train-Acc:0.608\n",
      "I:100 Test-Err:0.435 Test-Acc:0.8126 Train-Err:0.611 Train-Acc:0.6055\n",
      "I:110 Test-Err:0.431 Test-Acc:0.8089 Train-Err:0.598 Train-Acc:0.6085\n",
      "I:120 Test-Err:0.425 Test-Acc:0.8158 Train-Err:0.601 Train-Acc:0.6155\n",
      "I:130 Test-Err:0.428 Test-Acc:0.8161 Train-Err:0.607 Train-Acc:0.6115\n",
      "I:140 Test-Err:0.421 Test-Acc:0.8172 Train-Err:0.598 Train-Acc:0.6145\n",
      "I:150 Test-Err:0.418 Test-Acc:0.8172 Train-Err:0.598 Train-Acc:0.6165\n",
      "I:160 Test-Err:0.421 Test-Acc:0.8124 Train-Err:0.595 Train-Acc:0.62\n",
      "I:170 Test-Err:0.419 Test-Acc:0.8168 Train-Err:0.601 Train-Acc:0.6105\n",
      "I:180 Test-Err:0.416 Test-Acc:0.8194 Train-Err:0.598 Train-Acc:0.623\n",
      "I:190 Test-Err:0.413 Test-Acc:0.8186 Train-Err:0.586 Train-Acc:0.629\n",
      "I:200 Test-Err:0.414 Test-Acc:0.8146 Train-Err:0.591 Train-Acc:0.625\n",
      "I:210 Test-Err:0.419 Test-Acc:0.8176 Train-Err:0.593 Train-Acc:0.6185\n",
      "I:220 Test-Err:0.411 Test-Acc:0.8026 Train-Err:0.591 Train-Acc:0.639\n",
      "I:230 Test-Err:0.417 Test-Acc:0.8058 Train-Err:0.587 Train-Acc:0.633\n",
      "I:240 Test-Err:0.412 Test-Acc:0.815 Train-Err:0.590 Train-Acc:0.6285\n",
      "I:250 Test-Err:0.416 Test-Acc:0.8119 Train-Err:0.601 Train-Acc:0.6265\n",
      "I:260 Test-Err:0.415 Test-Acc:0.8168 Train-Err:0.590 Train-Acc:0.635\n",
      "I:270 Test-Err:0.418 Test-Acc:0.8037 Train-Err:0.590 Train-Acc:0.6335\n",
      "I:280 Test-Err:0.411 Test-Acc:0.813 Train-Err:0.588 Train-Acc:0.6385\n",
      "I:290 Test-Err:0.410 Test-Acc:0.8148 Train-Err:0.589 Train-Acc:0.6335"
     ]
    }
   ],
   "source": [
    "train(x_train, y_train, x_test, y_test)"
   ]
  },
  {
   "cell_type": "markdown",
   "metadata": {},
   "source": [
    "## Metrics\n",
    "\n",
    "### Training\n",
    "\n",
    "### Testing\n",
    "\n",
    "### Confusion matrix\n",
    "\n",
    "### Most common errors"
   ]
  },
  {
   "cell_type": "code",
   "execution_count": null,
   "metadata": {},
   "outputs": [],
   "source": []
  }
 ],
 "metadata": {
  "colab": {
   "collapsed_sections": [],
   "name": "Asg1_graded.ipynb",
   "provenance": []
  },
  "kernelspec": {
   "display_name": "Python 3",
   "language": "python",
   "name": "python3"
  },
  "language_info": {
   "codemirror_mode": {
    "name": "ipython",
    "version": 3
   },
   "file_extension": ".py",
   "mimetype": "text/x-python",
   "name": "python",
   "nbconvert_exporter": "python",
   "pygments_lexer": "ipython3",
   "version": "3.7.4"
  }
 },
 "nbformat": 4,
 "nbformat_minor": 1
}
