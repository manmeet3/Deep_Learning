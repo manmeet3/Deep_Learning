{
 "cells": [
  {
   "cell_type": "markdown",
   "metadata": {
    "colab_type": "text",
    "id": "WUqMQnflu6gk"
   },
   "source": [
    "Submitted by: Manmeet Singh (013906919)\n",
    "\n",
    "## Requirements \n",
    "* (done) Apply **mini-batch gradient descent** with appropriate batch size\n",
    "* (done) Use appropriate **learning rate** (can be adaptive per epoch)\n",
    "* (done) Apply **dropout** - find appropriate dropout rate at each layer\n",
    "* (partial - default) Initialize random **weights** properly before training\n",
    "* (done) Do basic image **augmentation** of training data using Keras\n",
    "* (done) Use **3 or more layers** with appropriate **number of neurons** per layer\n",
    "* (done) Use **relu activation layer** in the right places\n",
    "* (done) **Normalize and scale** the input before training with Keras\n",
    "* (partial) Include **metrics**: testing, training accuracy and confusion matrix"
   ]
  },
  {
   "cell_type": "code",
   "execution_count": 713,
   "metadata": {
    "colab": {},
    "colab_type": "code",
    "id": "h46hwvalkXY3"
   },
   "outputs": [],
   "source": [
    "import sys\n",
    "import pandas as pd\n",
    "import numpy as np\n",
    "import matplotlib.pyplot as plt\n",
    "import matplotlib.image as mpimg\n",
    "import seaborn as sns\n",
    "%matplotlib inline\n",
    "\n",
    "np.random.seed(2)"
   ]
  },
  {
   "cell_type": "code",
   "execution_count": 714,
   "metadata": {},
   "outputs": [],
   "source": [
    "from keras.datasets import mnist\n",
    "from keras.utils import np_utils\n",
    "from keras.preprocessing.image import ImageDataGenerator"
   ]
  },
  {
   "cell_type": "markdown",
   "metadata": {},
   "source": [
    "## Load dataset"
   ]
  },
  {
   "cell_type": "code",
   "execution_count": 715,
   "metadata": {},
   "outputs": [],
   "source": [
    "(x_train, y_train), (x_test, y_test) = mnist.load_data()"
   ]
  },
  {
   "cell_type": "code",
   "execution_count": 716,
   "metadata": {},
   "outputs": [
    {
     "data": {
      "text/plain": [
       "(60000, 28, 28)"
      ]
     },
     "execution_count": 716,
     "metadata": {},
     "output_type": "execute_result"
    }
   ],
   "source": [
    "x_train.shape"
   ]
  },
  {
   "cell_type": "code",
   "execution_count": 717,
   "metadata": {},
   "outputs": [
    {
     "data": {
      "text/plain": [
       "(10000, 28, 28)"
      ]
     },
     "execution_count": 717,
     "metadata": {},
     "output_type": "execute_result"
    }
   ],
   "source": [
    "x_test.shape"
   ]
  },
  {
   "cell_type": "code",
   "execution_count": 718,
   "metadata": {},
   "outputs": [],
   "source": [
    "x_train = x_train[0:2000]\n",
    "y_train = y_train[0:2000]"
   ]
  },
  {
   "cell_type": "code",
   "execution_count": 719,
   "metadata": {},
   "outputs": [],
   "source": [
    "y_train_raw = y_train.copy()\n",
    "y_test_raw = y_test.copy()"
   ]
  },
  {
   "cell_type": "code",
   "execution_count": 720,
   "metadata": {},
   "outputs": [
    {
     "data": {
      "image/png": "[encoded data removed]",
      "text/plain": [
       "<Figure size 432x288 with 1 Axes>"
      ]
     },
     "metadata": {
      "needs_background": "light"
     },
     "output_type": "display_data"
    }
   ],
   "source": [
    "g = plt.imshow(x_train[3][:,:])"
   ]
  },
  {
   "cell_type": "markdown",
   "metadata": {},
   "source": [
    "## Training dataset augmentation\n",
    "\n",
    "Using Keras Datagen"
   ]
  },
  {
   "cell_type": "code",
   "execution_count": 721,
   "metadata": {},
   "outputs": [],
   "source": [
    "x_train_augmented = x_train[0:500]\n",
    "y_train_augmented = y_train[0:500]"
   ]
  },
  {
   "cell_type": "code",
   "execution_count": 722,
   "metadata": {},
   "outputs": [],
   "source": [
    "x_train_augmented = x_train_augmented.reshape(-1,28,28,1)"
   ]
  },
  {
   "cell_type": "code",
   "execution_count": 723,
   "metadata": {},
   "outputs": [
    {
     "data": {
      "text/plain": [
       "(500, 28, 28, 1)"
      ]
     },
     "execution_count": 723,
     "metadata": {},
     "output_type": "execute_result"
    }
   ],
   "source": [
    "x_train_augmented.shape"
   ]
  },
  {
   "cell_type": "code",
   "execution_count": 724,
   "metadata": {},
   "outputs": [],
   "source": [
    "# Augment 1k training dataset images\n",
    "# Reference: https://www.kaggle.com/yassineghouzam/introduction-to-cnn-keras-0-997-top-6\n",
    "\n",
    "datagen = ImageDataGenerator(\n",
    "        featurewise_center=False,  # set input mean to 0 over the dataset\n",
    "        samplewise_center=False,  # set each sample mean to 0\n",
    "        featurewise_std_normalization=False,  # divide inputs by std of the dataset\n",
    "        samplewise_std_normalization=False,  # divide each input by its std\n",
    "        zca_whitening=False,  # apply ZCA whitening\n",
    "        rotation_range=10,  # randomly rotate images in the range (degrees, 0 to 180)\n",
    "        zoom_range = 0.1, # Randomly zoom image \n",
    "        width_shift_range=0.1,  # randomly shift images horizontally (fraction of total width)\n",
    "        height_shift_range=0.1,  # randomly shift images vertically (fraction of total height)\n",
    "        horizontal_flip=False,  # randomly flip images\n",
    "        vertical_flip=False)  # randomly flip images\n",
    "\n",
    "datagen.fit(x_train_augmented)"
   ]
  },
  {
   "cell_type": "code",
   "execution_count": 725,
   "metadata": {},
   "outputs": [],
   "source": [
    "# Use datagen.flow to obtain the entire batch at once and prepend to original dataset.\n",
    "x_train2 = None\n",
    "for x_batch, y_batch in datagen.flow(x_train_augmented, y_train_augmented, batch_size=len(x_train_augmented)):\n",
    "    x_train2 = x_batch\n",
    "    break"
   ]
  },
  {
   "cell_type": "code",
   "execution_count": 726,
   "metadata": {},
   "outputs": [],
   "source": [
    "# Re-shape the augmented dataset into (num_instances, width, height)\n",
    "x_train_augmented = x_train2.reshape(len(x_train_augmented), 28, 28)"
   ]
  },
  {
   "cell_type": "code",
   "execution_count": 727,
   "metadata": {},
   "outputs": [],
   "source": [
    "x_train[0:500] = x_train_augmented"
   ]
  },
  {
   "cell_type": "code",
   "execution_count": 728,
   "metadata": {},
   "outputs": [
    {
     "data": {
      "image/png": "[encoded data removed]",
      "text/plain": [
       "<Figure size 432x288 with 1 Axes>"
      ]
     },
     "metadata": {
      "needs_background": "light"
     },
     "output_type": "display_data"
    }
   ],
   "source": [
    "g = plt.imshow(x_train_augmented[3][:,:])"
   ]
  },
  {
   "cell_type": "markdown",
   "metadata": {},
   "source": [
    "#### The above two images look the same.."
   ]
  },
  {
   "cell_type": "code",
   "execution_count": 729,
   "metadata": {},
   "outputs": [
    {
     "data": {
      "text/plain": [
       "False"
      ]
     },
     "execution_count": 729,
     "metadata": {},
     "output_type": "execute_result"
    }
   ],
   "source": [
    "np.array_equal(x_train_augmented[5], x_train[5])"
   ]
  },
  {
   "cell_type": "markdown",
   "metadata": {},
   "source": [
    "#### Looks like Keras datagen actually did some augmentation. Not enough to be visible"
   ]
  },
  {
   "cell_type": "markdown",
   "metadata": {},
   "source": [
    "## Scaling and Normalization\n",
    "The training data is 1 3D array of (digit_label, pixel width, pixel height). For our MLP to run gradient descent, the width and height must be converted into a vector of 784 pixels.\n",
    "\n",
    "This is accomplished using numpy's reshape() function."
   ]
  },
  {
   "cell_type": "code",
   "execution_count": 730,
   "metadata": {},
   "outputs": [],
   "source": [
    "num_pixels = x_train.shape[1] * x_train.shape[2]\n",
    "\n",
    "# Scale input (examples, width, height) --> (examples, width*height)\n",
    "x_train = x_train.reshape((x_train.shape[0], num_pixels)).astype('float32')\n",
    "x_test = x_test.reshape((x_test.shape[0], num_pixels))"
   ]
  },
  {
   "cell_type": "code",
   "execution_count": 731,
   "metadata": {},
   "outputs": [],
   "source": [
    "# Normalize pixel values from 0-255 to 0-1\n",
    "x_train = x_train / 255\n",
    "x_test = x_test / 255"
   ]
  },
  {
   "cell_type": "markdown",
   "metadata": {},
   "source": [
    "## One hot encode the labels\n",
    "\n",
    "One hot encoding essentially transforms the categorical values into a matrix where their existence or absence is marked by 1 or 0, respectively."
   ]
  },
  {
   "cell_type": "code",
   "execution_count": 732,
   "metadata": {},
   "outputs": [],
   "source": [
    "# one hot encode outputs\n",
    "y_train = np_utils.to_categorical(y_train)\n",
    "y_test = np_utils.to_categorical(y_test)\n",
    "num_classes = y_test.shape[1]"
   ]
  },
  {
   "cell_type": "markdown",
   "metadata": {},
   "source": [
    "## Training functions\n",
    "\n",
    "* Relu\n",
    "* Mini-batch gradient descent based train()"
   ]
  },
  {
   "cell_type": "code",
   "execution_count": 733,
   "metadata": {
    "colab": {},
    "colab_type": "code",
    "id": "TApeoxxEkY-r"
   },
   "outputs": [],
   "source": [
    "def relu(x):\n",
    "    return (x >= 0) * x\n",
    "\n",
    "def relu2deriv(output):\n",
    "    return output >= 0"
   ]
  },
  {
   "cell_type": "code",
   "execution_count": 734,
   "metadata": {
    "colab": {},
    "colab_type": "code",
    "id": "Vehw6MM7q-8j"
   },
   "outputs": [],
   "source": [
    "'''\n",
    "Runs a 3 layer mini batch gradient descent \n",
    "\n",
    "@ params: images\n",
    "@ retval: metrics -> (correct_cnt, error, )\n",
    "''' \n",
    "def train(images, labels, test_images, test_labels):\n",
    "    train_correct = {}\n",
    "    train_incorrect = {}\n",
    "    test_correct = {}\n",
    "    test_incorrect = {}\n",
    "    batch_size = 64\n",
    "\n",
    "    alpha, iterations = (0.0009, 250)\n",
    "    \n",
    "    # MNIST dataset specific settings and hidden layer neuron size\n",
    "    pixels_per_image, num_labels, hidden_size_1, hidden_size_2 = (784, 10, 128, 64)\n",
    "\n",
    "    # Weight initialization for various layers -- # of neurons based on the tuple passed to np.random\n",
    "    weights_0_1 = 0.2 * np.random.random((pixels_per_image, hidden_size_1)) - 0.1\n",
    "    weights_1_2 = 0.2 * np.random.random((hidden_size_1, hidden_size_2)) - 0.1\n",
    "    weights_2_3 = 0.2 * np.random.random((hidden_size_2, num_labels)) - 0.1\n",
    "    \n",
    "    \n",
    "    for j in range(iterations):\n",
    "        error, correct_cnt = (0.0, 0)\n",
    "      \n",
    "        for i in range(int(len(images) / batch_size)):\n",
    "            batch_start, batch_end = ((i * batch_size), ((i+1) * batch_size))\n",
    "            \n",
    "            # Layer 0 is batchsize * 784 elts\n",
    "            layer_0 = images[batch_start:batch_end]\n",
    "            \n",
    "            # Layer 1 is [batchsize X 784 elts] * [784 X hidden_size_1] --> batchsize X hidden_size_1 \n",
    "            layer_1 = relu(np.dot(layer_0, weights_0_1))\n",
    "            l1_dropout_mask = np.random.randint(2, size=layer_1.shape)\n",
    "            layer_1 *= l1_dropout_mask * 2\n",
    "            \n",
    "            # Layer 2 [batchsize X hidden_size_1] * [hidden_size_1 X hidden_size_2] --> batchsize X hidden_size_2 \n",
    "            layer_2 = relu(np.dot(layer_1, weights_1_2))\n",
    "            l2_dropout_mask = np.random.randint(2, size=layer_2.shape)\n",
    "            layer_2 *= l2_dropout_mask * 2\n",
    "            \n",
    "            # Layer 3 is softmax layer\n",
    "            layer_3 = np.dot(layer_2, weights_2_3)\n",
    "            \n",
    "            # MSE between the network initialization and training label -- how well did you init your random weights?\n",
    "            error += np.sum((labels[batch_start:batch_end] - layer_3) ** 2)\n",
    "            \n",
    "            # Update weights for images in the batch - same deltas are recalculated in each iteration\n",
    "            for k in range(batch_size):\n",
    "                # Correct training predictions -- compare each image in batch to layer_3 output\n",
    "                if int(np.argmax(layer_3[k:k+1])) == np.argmax(labels[batch_start+k:batch_start+k+1]):\n",
    "                    correct_cnt += 1\n",
    "                    \n",
    "                    # Save metrics of correct training predictions\n",
    "                    raw_val = int(y_train_raw[batch_start+k:batch_start+k+1])\n",
    "                    if raw_val in train_correct:\n",
    "                        train_correct[raw_val] = train_correct[raw_val] + 1\n",
    "                    else: \n",
    "                        train_correct[raw_val] = 1   \n",
    "                else:\n",
    "                    raw_val = int(y_train_raw[batch_start+k:batch_start+k+1])\n",
    "                    if raw_val in train_incorrect:\n",
    "                        train_incorrect[raw_val] = train_incorrect[raw_val] + 1\n",
    "                    else: \n",
    "                        train_incorrect[raw_val] = 1  \n",
    "                    # ----------- end metrics --------------------\n",
    "                    \n",
    "                layer_3_delta = (labels[batch_start:batch_end] - layer_3) / batch_size\n",
    "                layer_2_delta = layer_3_delta.dot(weights_2_3.T) * relu2deriv(layer_2)\n",
    "                layer_2_delta *= l2_dropout_mask\n",
    "                layer_1_delta = layer_2_delta.dot(weights_1_2.T) * relu2deriv(layer_1)\n",
    "                layer_1_delta *= l1_dropout_mask\n",
    "                \n",
    "                # Update weights while iterating through the batch\n",
    "                weights_2_3 += alpha * layer_2.T.dot(layer_3_delta)\n",
    "                weights_1_2 += alpha * layer_1.T.dot(layer_2_delta)\n",
    "                weights_0_1 += alpha * layer_0.T.dot(layer_1_delta)\n",
    "\n",
    "        # Check accuracy against test set and print metrics\n",
    "        if(j%10 == 0):\n",
    "            test_error = 0.0\n",
    "            test_correct_cnt = 0\n",
    "\n",
    "            for i in range(len(test_images)):\n",
    "                layer_0 = test_images[i:i+1]\n",
    "                layer_1 = relu(np.dot(layer_0,weights_0_1))\n",
    "                layer_2 = relu(np.dot(layer_1, weights_1_2))\n",
    "                layer_3 = relu(np.dot(layer_2, weights_2_3))\n",
    "                \n",
    "                # MSE\n",
    "                test_error += np.sum((test_labels[i:i+1] - layer_3) ** 2)\n",
    "                \n",
    "                # Save testing metrics\n",
    "                if int(np.argmax(layer_3) ==  np.argmax(test_labels[i:i+1])):\n",
    "                    test_correct_cnt += 1\n",
    "                    raw_val = int(y_test_raw[i:i+1])\n",
    "                    if raw_val in test_correct:\n",
    "                        test_correct[raw_val] = test_correct[raw_val] + 1\n",
    "                    else: \n",
    "                        test_correct[raw_val] = 1   \n",
    "                else:\n",
    "                    raw_val = int(y_test_raw[i:i+1])\n",
    "                    if raw_val in train_incorrect:\n",
    "                        test_incorrect[raw_val] = train_incorrect[raw_val] + 1\n",
    "                    else: \n",
    "                        test_incorrect[raw_val] = 1  \n",
    "                # ----------- end metrics --------------------\n",
    "                \n",
    "            # Reference for metrics: http://howieko.com/study/regularization/\n",
    "            sys.stdout.write(\"\\n\" + \\\n",
    "            \"I:\" + str(j) + \\\n",
    "            \" Test-Err:\" + str(test_error/ float(len(test_images)))[0:5] +\\\n",
    "            \" Test-Acc:\" + str(test_correct_cnt/ float(len(test_images)))+\\\n",
    "            \" Train-Err:\" + str(error/ float(len(images)))[0:5] +\\\n",
    "            \" Train-Acc:\" + str(correct_cnt/ float(len(images))))\n",
    "    return train_correct, train_incorrect, test_correct, test_incorrect"
   ]
  },
  {
   "cell_type": "markdown",
   "metadata": {},
   "source": [
    "## Metrics"
   ]
  },
  {
   "cell_type": "code",
   "execution_count": 736,
   "metadata": {},
   "outputs": [
    {
     "name": "stdout",
     "output_type": "stream",
     "text": [
      "\n",
      "I:0 Test-Err:0.883 Test-Acc:0.2574 Train-Err:1.042 Train-Acc:0.124\n",
      "I:10 Test-Err:0.756 Test-Acc:0.6048 Train-Err:0.825 Train-Acc:0.3145\n",
      "I:20 Test-Err:0.658 Test-Acc:0.6656 Train-Err:0.772 Train-Acc:0.4185\n",
      "I:30 Test-Err:0.607 Test-Acc:0.7234 Train-Err:0.735 Train-Acc:0.462\n",
      "I:40 Test-Err:0.569 Test-Acc:0.7532 Train-Err:0.719 Train-Acc:0.475\n",
      "I:50 Test-Err:0.547 Test-Acc:0.7723 Train-Err:0.716 Train-Acc:0.4925\n",
      "I:60 Test-Err:0.534 Test-Acc:0.7856 Train-Err:0.692 Train-Acc:0.4995\n",
      "I:70 Test-Err:0.520 Test-Acc:0.79 Train-Err:0.696 Train-Acc:0.5155\n",
      "I:80 Test-Err:0.522 Test-Acc:0.7831 Train-Err:0.701 Train-Acc:0.5075\n",
      "I:90 Test-Err:0.525 Test-Acc:0.7807 Train-Err:0.687 Train-Acc:0.5175\n",
      "I:100 Test-Err:0.520 Test-Acc:0.775 Train-Err:0.683 Train-Acc:0.5235\n",
      "I:110 Test-Err:0.516 Test-Acc:0.7825 Train-Err:0.682 Train-Acc:0.5245\n",
      "I:120 Test-Err:0.509 Test-Acc:0.7744 Train-Err:0.690 Train-Acc:0.522\n",
      "I:130 Test-Err:0.511 Test-Acc:0.7806 Train-Err:0.681 Train-Acc:0.532\n",
      "I:140 Test-Err:0.507 Test-Acc:0.7801 Train-Err:0.678 Train-Acc:0.5325\n",
      "I:150 Test-Err:0.507 Test-Acc:0.7931 Train-Err:0.683 Train-Acc:0.5415\n",
      "I:160 Test-Err:0.507 Test-Acc:0.7949 Train-Err:0.670 Train-Acc:0.5455\n",
      "I:170 Test-Err:0.512 Test-Acc:0.7885 Train-Err:0.683 Train-Acc:0.5285\n",
      "I:180 Test-Err:0.516 Test-Acc:0.7876 Train-Err:0.683 Train-Acc:0.5305\n",
      "I:190 Test-Err:0.521 Test-Acc:0.7924 Train-Err:0.693 Train-Acc:0.5435\n",
      "I:200 Test-Err:0.541 Test-Acc:0.7919 Train-Err:0.709 Train-Acc:0.5135\n",
      "I:210 Test-Err:0.547 Test-Acc:0.7832 Train-Err:0.711 Train-Acc:0.503\n",
      "I:220 Test-Err:0.564 Test-Acc:0.7694 Train-Err:0.718 Train-Acc:0.503\n",
      "I:230 Test-Err:0.597 Test-Acc:0.7442 Train-Err:0.739 Train-Acc:0.4725\n",
      "I:240 Test-Err:0.612 Test-Acc:0.7086 Train-Err:0.743 Train-Acc:0.467"
     ]
    }
   ],
   "source": [
    "train_correct, train_incorrect, test_correct, test_incorrect = train(x_train, y_train, x_test, y_test)"
   ]
  },
  {
   "cell_type": "markdown",
   "metadata": {},
   "source": [
    "### Training"
   ]
  },
  {
   "cell_type": "code",
   "execution_count": 737,
   "metadata": {},
   "outputs": [
    {
     "data": {
      "image/png": "[encoded data removed]",
      "text/plain": [
       "<Figure size 432x288 with 1 Axes>"
      ]
     },
     "metadata": {
      "needs_background": "light"
     },
     "output_type": "display_data"
    }
   ],
   "source": [
    "plt.bar(range(len(train_correct)), list(train_correct.values()), align='center', width=0.8, color='g', label='Train correct')\n",
    "plt.bar(range(len(train_incorrect)), list(train_incorrect.values()), align='center', width=0.4, color='r', label='Train incorrect')\n",
    "\n",
    "plt.xticks(range(len(train_correct)), list(train_correct.keys()))\n",
    "\n",
    "plt.legend()\n",
    "\n",
    "plt.show()"
   ]
  },
  {
   "cell_type": "markdown",
   "metadata": {},
   "source": [
    "### Testing"
   ]
  },
  {
   "cell_type": "code",
   "execution_count": 740,
   "metadata": {},
   "outputs": [
    {
     "data": {
      "image/png": "[encoded data removed]",
      "text/plain": [
       "<Figure size 432x288 with 1 Axes>"
      ]
     },
     "metadata": {
      "needs_background": "light"
     },
     "output_type": "display_data"
    }
   ],
   "source": [
    "plt.bar(range(len(test_correct)), list(test_correct.values()), align='center', width=0.8, color='b', label='Test correct')\n",
    "plt.bar(range(len(test_incorrect)), list(test_incorrect.values()), align='center', width=0.4, color='y', label='Test incorrect')\n",
    "\n",
    "plt.xticks(range(len(test_correct)), list(train_correct.keys()))\n",
    "\n",
    "plt.legend()\n",
    "\n",
    "plt.show()"
   ]
  },
  {
   "cell_type": "code",
   "execution_count": null,
   "metadata": {},
   "outputs": [],
   "source": [
    "train_incorrect"
   ]
  }
 ],
 "metadata": {
  "colab": {
   "collapsed_sections": [],
   "name": "Asg1_graded.ipynb",
   "provenance": []
  },
  "kernelspec": {
   "display_name": "Python 3",
   "language": "python",
   "name": "python3"
  },
  "language_info": {
   "codemirror_mode": {
    "name": "ipython",
    "version": 3
   },
   "file_extension": ".py",
   "mimetype": "text/x-python",
   "name": "python",
   "nbconvert_exporter": "python",
   "pygments_lexer": "ipython3",
   "version": "3.7.4"
  }
 },
 "nbformat": 4,
 "nbformat_minor": 1
}
