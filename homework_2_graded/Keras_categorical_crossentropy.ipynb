{
  "nbformat": 4,
  "nbformat_minor": 0,
  "metadata": {
    "colab": {
      "name": "Untitled0.ipynb",
      "provenance": [],
      "collapsed_sections": [],
      "authorship_tag": "ABX9TyMc9t2R45NODhEb/pI6qB0o",
      "include_colab_link": true
    },
    "kernelspec": {
      "name": "python3",
      "display_name": "Python 3"
    }
  },
  "cells": [
    {
      "cell_type": "markdown",
      "metadata": {
        "id": "view-in-github",
        "colab_type": "text"
      },
      "source": [
        "<a href=\"https://colab.research.google.com/github/manmeet3/Deep_Learning/blob/master/homework_2_graded/Keras_categorical_crossentropy.ipynb\" target=\"_parent\"><img src=\"https://colab.research.google.com/assets/colab-badge.svg\" alt=\"Open In Colab\"/></a>"
      ]
    },
    {
      "cell_type": "markdown",
      "metadata": {
        "id": "YaTLvYFdY5S-",
        "colab_type": "text"
      },
      "source": [
        "# Keras Categorical cross-entropy"
      ]
    },
    {
      "cell_type": "markdown",
      "metadata": {
        "id": "W3-vnmuGZaGF",
        "colab_type": "text"
      },
      "source": [
        "https://machinelearningmastery.com/how-to-develop-a-cnn-from-scratch-for-fashion-mnist-clothing-classification/"
      ]
    },
    {
      "cell_type": "code",
      "metadata": {
        "id": "8FIG_r_KYwfH",
        "colab_type": "code",
        "colab": {}
      },
      "source": [
        "import numpy as np\n",
        "from matplotlib import pyplot"
      ],
      "execution_count": 0,
      "outputs": []
    }
  ]
}