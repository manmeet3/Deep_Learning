{
  "nbformat": 4,
  "nbformat_minor": 0,
  "metadata": {
    "colab": {
      "name": "Untitled2.ipynb",
      "provenance": [],
      "collapsed_sections": [],
      "authorship_tag": "ABX9TyN5J0AEfiCoBZn1nFAQuXlv",
      "include_colab_link": true
    },
    "kernelspec": {
      "name": "python3",
      "display_name": "Python 3"
    }
  },
  "cells": [
    {
      "cell_type": "markdown",
      "metadata": {
        "id": "view-in-github",
        "colab_type": "text"
      },
      "source": [
        "<a href=\"https://colab.research.google.com/github/manmeet3/Deep_Learning/blob/master/homework_2_graded/Keras_Logistic_Regression.ipynb\" target=\"_parent\"><img src=\"https://colab.research.google.com/assets/colab-badge.svg\" alt=\"Open In Colab\"/></a>"
      ]
    },
    {
      "cell_type": "code",
      "metadata": {
        "id": "pSF_EzqiwvR0",
        "colab_type": "code",
        "colab": {
          "base_uri": "https://localhost:8080/",
          "height": 72
        },
        "outputId": "00bcfa9f-e90f-496e-c3bc-83b036ba4de2"
      },
      "source": [
        "from keras.datasets import mnist, np_utils  \n",
        "from keras.models import Sequential \n",
        "from keras.layers import Dense, Activation "
      ],
      "execution_count": 1,
      "outputs": [
        {
          "output_type": "stream",
          "text": [
            "Using TensorFlow backend.\n"
          ],
          "name": "stderr"
        },
        {
          "output_type": "stream",
          "text": [
            "Downloading data from https://s3.amazonaws.com/img-datasets/mnist.npz\n",
            "11493376/11490434 [==============================] - 0s 0us/step\n"
          ],
          "name": "stdout"
        }
      ]
    },
    {
      "cell_type": "code",
      "metadata": {
        "id": "lzfAjtU2C4P2",
        "colab_type": "code",
        "colab": {}
      },
      "source": [
        "batch_size = 128\n",
        "nb_classes = 10\n",
        "nb_epoch = 20\n",
        "input_dim = 784"
      ],
      "execution_count": 0,
      "outputs": []
    },
    {
      "cell_type": "code",
      "metadata": {
        "id": "ddQzBxU7DFf2",
        "colab_type": "code",
        "colab": {
          "base_uri": "https://localhost:8080/",
          "height": 35
        },
        "outputId": "f38fe5c1-e2e3-439f-936e-4d320bcfa31a"
      },
      "source": [
        "(X_train, y_train), (X_test, y_test) = mnist.load_data()"
      ],
      "execution_count": 11,
      "outputs": [
        {
          "output_type": "execute_result",
          "data": {
            "text/plain": [
              "60000"
            ]
          },
          "metadata": {
            "tags": []
          },
          "execution_count": 11
        }
      ]
    },
    {
      "cell_type": "code",
      "metadata": {
        "id": "HXFUMKRfCFJo",
        "colab_type": "code",
        "colab": {}
      },
      "source": [
        "input_dim = 784 # 28*28 \n",
        "X_train = X_train.reshape(len(X_train), input_dim) \n",
        "X_test = X_test.reshape(len(X_test), input_dim) \n",
        "X_train = X_train.astype('float32') \n",
        "X_test = X_test.astype('float32') \n",
        "X_train /= 255 \n",
        "X_test /= 255"
      ],
      "execution_count": 0,
      "outputs": []
    },
    {
      "cell_type": "code",
      "metadata": {
        "id": "En3zn1thCGXV",
        "colab_type": "code",
        "colab": {}
      },
      "source": [
        "Y_train = np_utils.to_categorical(y_train, nb_classes) \n",
        "Y_test = np_utils.to_categorical(y_test, nb_classes)"
      ],
      "execution_count": 0,
      "outputs": []
    },
    {
      "cell_type": "code",
      "metadata": {
        "id": "61KC_vmsCHkz",
        "colab_type": "code",
        "colab": {}
      },
      "source": [
        "output_dim = nb_classes = 10 \n",
        "model = Sequential() \n",
        "model.add(Dense(output_dim, input_dim=input_dim, activation='softmax')) # Single softmax dense layer to \n",
        "batch_size = 128 \n",
        "nb_epoch = 20"
      ],
      "execution_count": 0,
      "outputs": []
    },
    {
      "cell_type": "code",
      "metadata": {
        "id": "_0yjDdJYCJ2t",
        "colab_type": "code",
        "colab": {
          "base_uri": "https://localhost:8080/",
          "height": 835
        },
        "outputId": "e746cdd3-5b4c-4646-8e70-c370dec48180"
      },
      "source": [
        "model.compile(optimizer='sgd', loss='categorical_crossentropy', metrics=['accuracy']) \n",
        "history = model.fit(X_train, Y_train, batch_size=batch_size, nb_epoch=nb_epoch,verbose=1, validation_data=(X_test, Y_test)) \n",
        "score = model.evaluate(X_test, Y_test, verbose=0) \n",
        "print('Test score:', score[0]) \n",
        "print('Test accuracy:', score[1])"
      ],
      "execution_count": 10,
      "outputs": [
        {
          "output_type": "stream",
          "text": [
            "/usr/local/lib/python3.6/dist-packages/ipykernel_launcher.py:2: UserWarning: The `nb_epoch` argument in `fit` has been renamed `epochs`.\n",
            "  \n"
          ],
          "name": "stderr"
        },
        {
          "output_type": "stream",
          "text": [
            "Train on 60000 samples, validate on 10000 samples\n",
            "Epoch 1/20\n",
            "60000/60000 [==============================] - 1s 19us/step - loss: 1.3143 - accuracy: 0.6857 - val_loss: 0.8225 - val_accuracy: 0.8328\n",
            "Epoch 2/20\n",
            "60000/60000 [==============================] - 1s 15us/step - loss: 0.7203 - accuracy: 0.8418 - val_loss: 0.6116 - val_accuracy: 0.8628\n",
            "Epoch 3/20\n",
            "60000/60000 [==============================] - 1s 15us/step - loss: 0.5885 - accuracy: 0.8598 - val_loss: 0.5289 - val_accuracy: 0.8747\n",
            "Epoch 4/20\n",
            "60000/60000 [==============================] - 1s 14us/step - loss: 0.5262 - accuracy: 0.8697 - val_loss: 0.4828 - val_accuracy: 0.8796\n",
            "Epoch 5/20\n",
            "60000/60000 [==============================] - 1s 15us/step - loss: 0.4885 - accuracy: 0.8766 - val_loss: 0.4528 - val_accuracy: 0.8843\n",
            "Epoch 6/20\n",
            "60000/60000 [==============================] - 1s 15us/step - loss: 0.4627 - accuracy: 0.8805 - val_loss: 0.4315 - val_accuracy: 0.8885\n",
            "Epoch 7/20\n",
            "60000/60000 [==============================] - 1s 15us/step - loss: 0.4436 - accuracy: 0.8837 - val_loss: 0.4148 - val_accuracy: 0.8908\n",
            "Epoch 8/20\n",
            "60000/60000 [==============================] - 1s 15us/step - loss: 0.4286 - accuracy: 0.8861 - val_loss: 0.4021 - val_accuracy: 0.8936\n",
            "Epoch 9/20\n",
            "60000/60000 [==============================] - 1s 15us/step - loss: 0.4166 - accuracy: 0.8882 - val_loss: 0.3914 - val_accuracy: 0.8940\n",
            "Epoch 10/20\n",
            "60000/60000 [==============================] - 1s 15us/step - loss: 0.4065 - accuracy: 0.8903 - val_loss: 0.3828 - val_accuracy: 0.8967\n",
            "Epoch 11/20\n",
            "60000/60000 [==============================] - 1s 15us/step - loss: 0.3981 - accuracy: 0.8921 - val_loss: 0.3754 - val_accuracy: 0.8986\n",
            "Epoch 12/20\n",
            "60000/60000 [==============================] - 1s 15us/step - loss: 0.3908 - accuracy: 0.8937 - val_loss: 0.3688 - val_accuracy: 0.9008\n",
            "Epoch 13/20\n",
            "60000/60000 [==============================] - 1s 14us/step - loss: 0.3844 - accuracy: 0.8951 - val_loss: 0.3630 - val_accuracy: 0.9015\n",
            "Epoch 14/20\n",
            "60000/60000 [==============================] - 1s 15us/step - loss: 0.3787 - accuracy: 0.8961 - val_loss: 0.3581 - val_accuracy: 0.9029\n",
            "Epoch 15/20\n",
            "60000/60000 [==============================] - 1s 15us/step - loss: 0.3737 - accuracy: 0.8974 - val_loss: 0.3537 - val_accuracy: 0.9038\n",
            "Epoch 16/20\n",
            "60000/60000 [==============================] - 1s 14us/step - loss: 0.3692 - accuracy: 0.8982 - val_loss: 0.3500 - val_accuracy: 0.9047\n",
            "Epoch 17/20\n",
            "60000/60000 [==============================] - 1s 15us/step - loss: 0.3651 - accuracy: 0.8997 - val_loss: 0.3462 - val_accuracy: 0.9056\n",
            "Epoch 18/20\n",
            "60000/60000 [==============================] - 1s 14us/step - loss: 0.3613 - accuracy: 0.9004 - val_loss: 0.3430 - val_accuracy: 0.9065\n",
            "Epoch 19/20\n",
            "60000/60000 [==============================] - 1s 14us/step - loss: 0.3579 - accuracy: 0.9011 - val_loss: 0.3399 - val_accuracy: 0.9073\n",
            "Epoch 20/20\n",
            "60000/60000 [==============================] - 1s 14us/step - loss: 0.3547 - accuracy: 0.9017 - val_loss: 0.3371 - val_accuracy: 0.9079\n",
            "Test score: 0.3371437579333782\n",
            "Test accuracy: 0.9078999757766724\n"
          ],
          "name": "stdout"
        }
      ]
    }
  ]
}