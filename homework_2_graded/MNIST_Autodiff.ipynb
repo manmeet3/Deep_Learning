{
  "nbformat": 4,
  "nbformat_minor": 0,
  "metadata": {
    "kernelspec": {
      "display_name": "Python 3",
      "language": "python",
      "name": "python3"
    },
    "language_info": {
      "codemirror_mode": {
        "name": "ipython",
        "version": 3
      },
      "file_extension": ".py",
      "mimetype": "text/x-python",
      "name": "python",
      "nbconvert_exporter": "python",
      "pygments_lexer": "ipython3",
      "version": "3.8.1"
    },
    "colab": {
      "name": "assignment.ipynb",
      "provenance": [],
      "toc_visible": true,
      "machine_shape": "hm"
    }
  },
  "cells": [
    {
      "cell_type": "markdown",
      "metadata": {
        "id": "fFsLGIccgcUN",
        "colab_type": "text"
      },
      "source": [
        "### Manmeet Singh 013906919\n",
        "\n",
        "Assignment 2 Part I: Write autodiff python library and based on it, do  mnist classifier (similar to last exercise but using autodiff library  that you will write instead of direct numpy)"
      ]
    },
    {
      "cell_type": "code",
      "metadata": {
        "id": "GLlw0e91pP_Z",
        "colab_type": "code",
        "colab": {}
      },
      "source": [
        "import sys\n",
        "import pandas as pd\n",
        "import numpy as np\n",
        "import matplotlib.pyplot as plt\n",
        "import matplotlib.image as mpimg\n",
        "import seaborn as sns\n",
        "\n",
        "%matplotlib inline\n",
        "np.random.seed(0)"
      ],
      "execution_count": 0,
      "outputs": []
    },
    {
      "cell_type": "code",
      "metadata": {
        "id": "7Jan9vLLgglK",
        "colab_type": "code",
        "colab": {}
      },
      "source": [
        "from keras.datasets import mnist\n",
        "from keras.utils import np_utils\n",
        "from keras.preprocessing.image import ImageDataGenerator"
      ],
      "execution_count": 0,
      "outputs": []
    },
    {
      "cell_type": "code",
      "metadata": {
        "id": "q4EbnCO3pS9l",
        "colab_type": "code",
        "colab": {}
      },
      "source": [
        "(X_train, y_train), (X_test, y_test) = mnist.load_data()"
      ],
      "execution_count": 0,
      "outputs": []
    },
    {
      "cell_type": "code",
      "metadata": {
        "id": "lL5M2S1WpVRG",
        "colab_type": "code",
        "outputId": "2f6d5818-5212-45cc-8d39-5520438f94e9",
        "colab": {
          "base_uri": "https://localhost:8080/",
          "height": 35
        }
      },
      "source": [
        "X_train.shape"
      ],
      "execution_count": 27,
      "outputs": [
        {
          "output_type": "execute_result",
          "data": {
            "text/plain": [
              "(60000, 28, 28)"
            ]
          },
          "metadata": {
            "tags": []
          },
          "execution_count": 27
        }
      ]
    },
    {
      "cell_type": "code",
      "metadata": {
        "id": "eiNXl8uHun0l",
        "colab_type": "code",
        "colab": {}
      },
      "source": [
        "class Tensor():\n",
        "\n",
        "    def __init__(self, data, requires_grad=False):\n",
        "        self.data = data\n",
        "        if not isinstance(data, np.ndarray):\n",
        "            self.data = np.array(data)\n",
        "        # whether to run backpropagation or not\n",
        "        self.requires_grad = requires_grad\n",
        "        # tensor gradient\n",
        "        self._grad = None\n",
        "        # operation if this tensor was used in it\n",
        "        self._grad_fn = None\n",
        "\n",
        "    @property\n",
        "    def shape(self):\n",
        "        return self.data.shape\n",
        "\n",
        "    @property\n",
        "    def grad_fn(self):\n",
        "        if not self.requires_grad:\n",
        "            raise Exception('This tensor is not backpropagated')\n",
        "        return self._grad_fn\n",
        "\n",
        "    @property\n",
        "    def grad(self):\n",
        "        return self._grad\n",
        "\n",
        "    def backward(self, grad=None):\n",
        "        if not self.grad_fn:\n",
        "            return False\n",
        "\n",
        "        if grad is None and self._grad is None:\n",
        "            # in case if this is last loss tensor\n",
        "            grad = self.__class__(1., requires_grad=False)\n",
        "\n",
        "        elif self.grad is not None:\n",
        "            grad = self._grad\n",
        "\n",
        "        if not self.requires_grad:\n",
        "            raise Exception('This tensor is not backpropagated')\n",
        "\n",
        "        self.grad_fn.backward(grad)\n",
        "        return True\n",
        "\n",
        "    def __str__(self):\n",
        "        return f'Tensor({str(self.data)})'\n",
        "\n",
        "    def add_grad(self, grad):\n",
        "        if self._grad is None:\n",
        "            self._grad = grad\n",
        "        else:\n",
        "            self._grad += grad\n",
        "\n",
        "    def __add__(self, o): \n",
        "        if self.data is not None:\n",
        "            self.data += o.data  \n",
        "            return self\n",
        "        self.data = o.data \n",
        "        return self\n",
        "\n",
        "class Op():\n",
        "\n",
        "    def forward(self):\n",
        "        raise NotImplemented\n",
        "\n",
        "    def backward(self, grad):\n",
        "        raise NotImplemented\n",
        "\n",
        "    def __call__(self, *args):\n",
        "        self.out = self.forward(*args)\n",
        "        self.out._grad_fn = self\n",
        "        return self.out\n"
      ],
      "execution_count": 0,
      "outputs": []
    },
    {
      "cell_type": "code",
      "metadata": {
        "id": "LWKDJ_wUIoL1",
        "colab_type": "code",
        "colab": {}
      },
      "source": [
        "class AddOp(Op):\n",
        "\n",
        "    '''Sumation operation with 2 tensors'''\n",
        "\n",
        "    def forward(self, x: Tensor, y: Tensor):\n",
        "        self.x = x\n",
        "        self.y = y\n",
        "        # created tensor should be backpropagated if at least one \n",
        "        # of the input is backpropagated\n",
        "        requires_grad = x.requires_grad or y.requires_grad\n",
        "        return Tensor(x.data + y.data, requires_grad=requires_grad)\n",
        "\n",
        "    def backward(self, grad):\n",
        "        if self.x.requires_grad:\n",
        "            # as we have matrix operation one of the parameters can have partial shape\n",
        "            # in such scenarion we need to sum gradient values by missed axis\n",
        "            if self.x.shape != grad.shape:\n",
        "                axis = np.argmax(np.abs(np.array(self.x.shape) - np.array(grad.shape)))\n",
        "                self.x.add_grad(Tensor(grad.data.sum(axis=axis, keepdims=True)))\n",
        "            else:\n",
        "                self.x.add_grad(grad)\n",
        "            if self.x.grad_fn:\n",
        "                self.x.backward()\n",
        "        if self.y.requires_grad:\n",
        "            if self.y.shape != grad.shape:\n",
        "                axis = np.argmax(np.abs(np.array(self.y.shape) - np.array(grad.shape)))\n",
        "                self.y.add_grad(Tensor(grad.data.sum(axis=axis, keepdims=True)))\n",
        "            else:\n",
        "                self.y.add_grad(grad)\n",
        "            if self.y.grad_fn:\n",
        "                self.y.backward()"
      ],
      "execution_count": 0,
      "outputs": []
    },
    {
      "cell_type": "code",
      "metadata": {
        "id": "nx5C1FUSIuAw",
        "colab_type": "code",
        "colab": {}
      },
      "source": [
        "class MulOp(Op):\n",
        "\n",
        "    '''Multiplication operation with 2 tensors'''\n",
        "\n",
        "    def forward(self, x: Tensor, y: Tensor):\n",
        "        self.x = x\n",
        "        self.y = y\n",
        "        requires_grad = x.requires_grad or y.requires_grad\n",
        "        return Tensor(x.data * y.data, requires_grad=requires_grad)\n",
        "\n",
        "    def backward(self, grad):\n",
        "        if self.x.requires_grad:\n",
        "            self.x.add_grad(Tensor(grad.data * self.y.data, False))\n",
        "            if self.x.grad_fn:\n",
        "                self.x.backward()\n",
        "        if self.y.requires_grad:\n",
        "            self.y.add_grad(Tensor(grad.data * self.x.data, False))\n",
        "            if self.y.grad_fn:\n",
        "                self.y.backward()"
      ],
      "execution_count": 0,
      "outputs": []
    },
    {
      "cell_type": "code",
      "metadata": {
        "id": "pmWNgphCQ3se",
        "colab_type": "code",
        "colab": {}
      },
      "source": [
        "class Layer():\n",
        "\n",
        "    def forward(self):\n",
        "        raise NotImplemented\n",
        "    \n",
        "    def backward(self, grad):\n",
        "        raise NotImplemented\n",
        "\n",
        "    def __call__(self, *args):\n",
        "        return self.forward(*args)\n",
        "\n",
        "class Sigmoid():\n",
        "\n",
        "    def forward(self,x):\n",
        "        self.x = x   \n",
        "        return 1/(1+np.exp(-x))\n",
        "      \n",
        "    def backward(self, grad):\n",
        "        grad_input = self.x*(1-self.x) * grad\n",
        "        return grad_input\n",
        "\n",
        "class Relu(Layer):\n",
        "\n",
        "    def forward(self,x):\n",
        "        self.x = x\n",
        "        return np.maximum(np.zeros_like(x), x)\n",
        "      \n",
        "    def backward(self, grad):\n",
        "        grad_input = (self.x > 0) * grad\n",
        "        return grad_input\n",
        "\n",
        "class SoftmaxCrossentropyWithLogits(Layer):\n",
        "\n",
        "    def forward(self, x, y):\n",
        "        self.x = x\n",
        "        self.y = y\n",
        "\n",
        "        exps = np.exp(x) \n",
        "        self.softmax = exps / np.sum(exps, axis=-1, keepdims=True)\n",
        "\n",
        "        logits = self.softmax[np.arange(x.shape[0]),y]\n",
        "        log_likelihood = -np.log(logits)\n",
        "        loss = np.sum(log_likelihood) / x.shape[0]\n",
        "        return loss\n",
        "      \n",
        "    def backward(self, grad=None):\n",
        "        batch = self.x.shape[0]\n",
        "        grad = self.softmax\n",
        "        grad[np.arange(batch),self.y] -= 1\n",
        "        grad = grad/batch\n",
        "        return grad\n",
        "\n",
        "class MSE(Layer):\n",
        "\n",
        "    def forward(self, x, y):\n",
        "        self.x = x\n",
        "        self.y = y\n",
        "        return ((x - y)**2) / (self.x.shape[0]*2)\n",
        "\n",
        "    def backward(self, grad=None):\n",
        "        # 1/2n * Sum(xi-yi)**2 \n",
        "        # dx = 1/2n * Sum( x**2 -2*x*y + y**2) \n",
        "        # dx  = (2x - 2y) / 2*n = (x - y) / n\n",
        "        return (self.x - self.y) / self.x.shape[0]\n",
        "\n",
        "class Linear(Layer):\n",
        "\n",
        "    def __init__(self, input, output, lr=0.0001):\n",
        "        self.A = 2*np.random.random((input, output)) - 1\n",
        "        self.b = 2*np.random.random((output)) - 1\n",
        "        self.lr = lr\n",
        "    \n",
        "    def forward(self, x):\n",
        "        self.x = x\n",
        "        return np.dot(x,self.A) + self.b\n",
        "\n",
        "    def backward(self, grad):\n",
        "        # d_layer / db = 1\n",
        "        b_grad = grad.mean(axis=0)*self.x.shape[0]\n",
        "        # d_layer / dA = x\n",
        "        A_grad = np.dot(self.x.T, grad)\n",
        "        # As this layer have somee weights we need to update them using \n",
        "        # gradient descent\n",
        "        # compute df / dx = df / d_layer * d_layer / dx\n",
        "        # df / d_layer == grad\n",
        "        grad_input = np.dot(grad, self.A.T)\n",
        "        \n",
        "        self.A -= A_grad * self.lr\n",
        "        self.b -= b_grad * self.lr\n",
        "\n",
        "        return grad_input"
      ],
      "execution_count": 0,
      "outputs": []
    },
    {
      "cell_type": "code",
      "metadata": {
        "id": "uUKdYMniIYk6",
        "colab_type": "code",
        "colab": {}
      },
      "source": [
        "class Model(Layer):\n",
        "\n",
        "    def __init__(self, lr=0.0001):\n",
        "        self.lr = lr\n",
        "        self.layers = [\n",
        "            Linear(3,15, lr=self.lr),\n",
        "            Relu(),\n",
        "            Linear(15,1, lr=self.lr)        \n",
        "        ]\n",
        "\n",
        "    def forward(self,x):\n",
        "        for l in self.layers:\n",
        "            x = l(x)\n",
        "        return x\n",
        "\n",
        "    def backward(self, grad):\n",
        "        for l in self.layers[::-1]:\n",
        "            grad = l.backward(grad)\n",
        "\n",
        "        return grad\n",
        "\n",
        "mm = Model()\n",
        "\n",
        "def yf(x1,x2,x3):\n",
        "    return np.array([2 * x1 + 3*x2 + 4*x3 + 5],dtype=np.float32)\n",
        "\n",
        "loss = MSE()\n",
        "\n",
        "for i in range(20000):\n",
        "    x1 = np.random.random()*30\n",
        "    x2 = np.random.random()*20\n",
        "    x3 = np.random.random()*11\n",
        "    y = mm(np.array([[x1,x2,x3]]))\n",
        "    err = loss(y, yf(x1,x2,x3))\n",
        "    \n",
        "    yb = loss.backward()\n",
        "    yb = mm.backward(yb)\n",
        "    if i % 100 == 0:\n",
        "        print(err)\n",
        "        print('VAL Target:',yf(1,2,3), 'Res:',mm(np.array([[1,2,3]])), 'Loss:',loss(yf(1,2,3), mm(np.array([[1,2,3]]))))\n",
        "        print('---------')"
      ],
      "execution_count": 0,
      "outputs": []
    },
    {
      "cell_type": "code",
      "metadata": {
        "id": "xda9zBiCEUqf",
        "colab_type": "code",
        "colab": {
          "base_uri": "https://localhost:8080/",
          "height": 284
        },
        "outputId": "25842db6-e404-44d7-dd79-bf750a4cb9a0"
      },
      "source": [
        "fig = plt.figure()\n",
        "for i in range(9):\n",
        "  plt.subplot(3,3,i+1)\n",
        "  plt.tight_layout()\n",
        "  plt.imshow(X_train[i], cmap='gray', interpolation='none')\n",
        "  plt.title(\"Digit: {}\".format(y_train[i]))\n",
        "  plt.xticks([])\n",
        "  plt.yticks([])"
      ],
      "execution_count": 37,
      "outputs": [
        {
          "output_type": "display_data",
          "data": {
            "image/png": "[encoded data removed]",
            "text/plain": [
              "<Figure size 432x288 with 9 Axes>"
            ]
          },
          "metadata": {
            "tags": []
          }
        }
      ]
    },
    {
      "cell_type": "code",
      "metadata": {
        "id": "uBl5FiSGEewb",
        "colab_type": "code",
        "colab": {
          "base_uri": "https://localhost:8080/",
          "height": 299
        },
        "outputId": "8b0c4566-4903-452e-961e-b7fb8aae6d8b"
      },
      "source": [
        "fig = plt.figure()\n",
        "plt.subplot(2,1,1)\n",
        "plt.imshow(X_train[0], cmap='gray', interpolation='none')\n",
        "plt.title(\"Digit: {}\".format(y_train[0]))\n",
        "plt.xticks([])\n",
        "plt.yticks([])\n",
        "plt.subplot(2,1,2)\n",
        "plt.hist(X_train[0].reshape(784))\n",
        "plt.title(\"Pixel Value Distribution\")"
      ],
      "execution_count": 38,
      "outputs": [
        {
          "output_type": "execute_result",
          "data": {
            "text/plain": [
              "Text(0.5, 1.0, 'Pixel Value Distribution')"
            ]
          },
          "metadata": {
            "tags": []
          },
          "execution_count": 38
        },
        {
          "output_type": "display_data",
          "data": {
            "image/png": "[encoded data removed]",
            "text/plain": [
              "<Figure size 432x288 with 2 Axes>"
            ]
          },
          "metadata": {
            "tags": [],
            "needs_background": "light"
          }
        }
      ]
    },
    {
      "cell_type": "code",
      "metadata": {
        "id": "bY_5cNaJGWzf",
        "colab_type": "code",
        "colab": {
          "base_uri": "https://localhost:8080/",
          "height": 126
        },
        "outputId": "a1debf0f-d105-4b8d-f884-0d7cadc5c13e"
      },
      "source": [
        "# Shape before we reshape and normalize\n",
        "print(\"X_train shape\", X_train.shape)\n",
        "print(\"y_train shape\", y_train.shape)\n",
        "print(\"X_test shape\", X_test.shape)\n",
        "print(\"y_test shape\", y_test.shape)\n",
        "\n",
        "# build the input vector from the 28x28 pixels\n",
        "X_train = X_train.reshape(60000, 784)\n",
        "X_test = X_test.reshape(10000, 784)\n",
        "X_train = X_train.astype('float32')\n",
        "X_test = X_test.astype('float32')\n",
        "\n",
        "# normalize the data\n",
        "X_train /= 255\n",
        "X_test /= 255\n",
        "\n",
        "# print the final input shape\n",
        "print(\"Train matrix shape\", X_train.shape)\n",
        "print(\"Test matrix shape\", X_test.shape)"
      ],
      "execution_count": 39,
      "outputs": [
        {
          "output_type": "stream",
          "text": [
            "X_train shape (60000, 28, 28)\n",
            "y_train shape (60000,)\n",
            "X_test shape (10000, 28, 28)\n",
            "y_test shape (10000,)\n",
            "Train matrix shape (60000, 784)\n",
            "Test matrix shape (10000, 784)\n"
          ],
          "name": "stdout"
        }
      ]
    },
    {
      "cell_type": "code",
      "metadata": {
        "id": "0PjmdKUSIc4R",
        "colab_type": "code",
        "colab": {}
      },
      "source": [
        "from torchvision.datasets import MNIST\n",
        "from torchvision import transforms\n",
        "from torch.utils.data import DataLoader\n",
        "\n",
        "class Model(Layer):\n",
        "\n",
        "    def __init__(self, lr=0.00001):\n",
        "        self.lr = lr\n",
        "        self.layers = [\n",
        "            Linear(784,100, lr=self.lr),\n",
        "            Relu(),\n",
        "            Linear(100,200, lr=self.lr),\n",
        "            Relu(),\n",
        "            Linear(200,10, lr=self.lr)        \n",
        "        ]\n",
        "\n",
        "    def forward(self,x):\n",
        "        for l in self.layers:\n",
        "            x = l(x)\n",
        "        return x\n",
        "\n",
        "    def backward(self, grad):\n",
        "        for l in self.layers[::-1]:\n",
        "            grad = l.backward(grad)\n",
        "\n",
        "        return grad\n",
        "\n",
        "\n",
        "simple = transforms.Compose([\n",
        "    transforms.ToTensor(), # converts to [0,1] interval\n",
        "])\n",
        "ds = MNIST('./mnist', download=True, transform=simple)\n",
        "ld = DataLoader(ds, batch_size=2, pin_memory=True, drop_last=True) \n",
        "\n",
        "mm = Model()\n",
        "loss = SoftmaxCrossentropyWithLogits()\n",
        "_loss_avg = 0 \n",
        "for e in range(7):\n",
        "    for i, (img, label) in enumerate(ld):\n",
        "        x = img.view(2,-1).numpy()\n",
        "\n",
        "        res = mm(x)\n",
        "        _loss = loss(res, label.numpy())\n",
        "        _loss_avg += _loss.mean() # running loss mean\n",
        "        grad = loss.backward(1)\n",
        "        mm.backward(grad)\n",
        "\n",
        "        if i % 100 == 0:\n",
        "            print(_loss_avg/100)\n",
        "            _loss_avg = 0\n",
        "            print('---------')\n",
        "            \n"
      ],
      "execution_count": 0,
      "outputs": []
    }
  ]
}
