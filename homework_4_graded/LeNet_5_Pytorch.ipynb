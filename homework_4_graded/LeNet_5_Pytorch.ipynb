{
 "cells": [
  {
   "cell_type": "code",
   "execution_count": 68,
   "metadata": {},
   "outputs": [],
   "source": [
    "import os\n",
    "import numpy as np\n",
    "import pandas as pd\n",
    "\n",
    "from matplotlib import pyplot\n",
    "\n",
    "from sklearn.model_selection import train_test_split\n",
    "\n",
    "import torch\n",
    "import torch.nn as nn\n",
    "import torch.nn.functional as F\n",
    "from torch.utils.data import DataLoader\n",
    "import torchvision.transforms as transforms\n",
    "import torchvision\n",
    "from torch.utils.data import TensorDataset\n",
    "from torch.optim import Adam, SGD\n",
    "from torch import optim\n",
    "from torch.autograd import Variable"
   ]
  },
  {
   "cell_type": "code",
   "execution_count": 3,
   "metadata": {},
   "outputs": [],
   "source": [
    "device = torch.device(\"cuda\")"
   ]
  },
  {
   "cell_type": "code",
   "execution_count": 4,
   "metadata": {},
   "outputs": [],
   "source": [
    "epochs=10"
   ]
  },
  {
   "cell_type": "code",
   "execution_count": 5,
   "metadata": {},
   "outputs": [
    {
     "name": "stdout",
     "output_type": "stream",
     "text": [
      "['test.csv', 'train.csv']\n"
     ]
    }
   ],
   "source": [
    "base_dir = \"./mnist\"\n",
    "print(os.listdir(base_dir))"
   ]
  },
  {
   "cell_type": "markdown",
   "metadata": {},
   "source": [
    "Define LeNet 5 which contains 5 layers -- 2 convolution and 3 fully connected dense layers. "
   ]
  },
  {
   "cell_type": "code",
   "execution_count": 44,
   "metadata": {},
   "outputs": [],
   "source": [
    "class LeNet(nn.Module):\n",
    "    def __init__(self):\n",
    "        super(LeNet, self).__init__()\n",
    "        self.conv_1 = nn.Conv2d(1, 6, (5,5), padding=2)\n",
    "        self.conv_2 = nn.Conv2d(6, 16, (5,5))\n",
    "        self.fc_1   = nn.Linear(16*5*5, 120)\n",
    "        self.fc_2   = nn.Linear(120, 84)\n",
    "        self.fc_3   = nn.Linear(84, 10)\n",
    "    def forward(self, x):\n",
    "        x = F.max_pool2d(F.relu(self.conv_1(x)), (2,2))\n",
    "        x = F.max_pool2d(F.relu(self.conv_2(x)), (2,2))\n",
    "        x = x.view(-1, self.num_flat_features(x))\n",
    "        x = F.relu(self.fc_1(x))\n",
    "        x = F.relu(self.fc_2(x))\n",
    "        x = self.fc_3(x)\n",
    "        return x\n",
    "    def num_flat_features(self, x):\n",
    "        size = x.size()[1:]\n",
    "        num_features = 1\n",
    "        for s in size:\n",
    "            num_features *= s\n",
    "        return num_features"
   ]
  },
  {
   "cell_type": "code",
   "execution_count": 79,
   "metadata": {
    "scrolled": true
   },
   "outputs": [
    {
     "data": {
      "text/html": [
       "<div>\n",
       "<style scoped>\n",
       "    .dataframe tbody tr th:only-of-type {\n",
       "        vertical-align: middle;\n",
       "    }\n",
       "\n",
       "    .dataframe tbody tr th {\n",
       "        vertical-align: top;\n",
       "    }\n",
       "\n",
       "    .dataframe thead th {\n",
       "        text-align: right;\n",
       "    }\n",
       "</style>\n",
       "<table border=\"1\" class=\"dataframe\">\n",
       "  <thead>\n",
       "    <tr style=\"text-align: right;\">\n",
       "      <th></th>\n",
       "      <th>label</th>\n",
       "      <th>pixel0</th>\n",
       "      <th>pixel1</th>\n",
       "      <th>pixel2</th>\n",
       "      <th>pixel3</th>\n",
       "      <th>pixel4</th>\n",
       "      <th>pixel5</th>\n",
       "      <th>pixel6</th>\n",
       "      <th>pixel7</th>\n",
       "      <th>pixel8</th>\n",
       "      <th>...</th>\n",
       "      <th>pixel774</th>\n",
       "      <th>pixel775</th>\n",
       "      <th>pixel776</th>\n",
       "      <th>pixel777</th>\n",
       "      <th>pixel778</th>\n",
       "      <th>pixel779</th>\n",
       "      <th>pixel780</th>\n",
       "      <th>pixel781</th>\n",
       "      <th>pixel782</th>\n",
       "      <th>pixel783</th>\n",
       "    </tr>\n",
       "  </thead>\n",
       "  <tbody>\n",
       "    <tr>\n",
       "      <td>0</td>\n",
       "      <td>1</td>\n",
       "      <td>0</td>\n",
       "      <td>0</td>\n",
       "      <td>0</td>\n",
       "      <td>0</td>\n",
       "      <td>0</td>\n",
       "      <td>0</td>\n",
       "      <td>0</td>\n",
       "      <td>0</td>\n",
       "      <td>0</td>\n",
       "      <td>...</td>\n",
       "      <td>0</td>\n",
       "      <td>0</td>\n",
       "      <td>0</td>\n",
       "      <td>0</td>\n",
       "      <td>0</td>\n",
       "      <td>0</td>\n",
       "      <td>0</td>\n",
       "      <td>0</td>\n",
       "      <td>0</td>\n",
       "      <td>0</td>\n",
       "    </tr>\n",
       "    <tr>\n",
       "      <td>1</td>\n",
       "      <td>0</td>\n",
       "      <td>0</td>\n",
       "      <td>0</td>\n",
       "      <td>0</td>\n",
       "      <td>0</td>\n",
       "      <td>0</td>\n",
       "      <td>0</td>\n",
       "      <td>0</td>\n",
       "      <td>0</td>\n",
       "      <td>0</td>\n",
       "      <td>...</td>\n",
       "      <td>0</td>\n",
       "      <td>0</td>\n",
       "      <td>0</td>\n",
       "      <td>0</td>\n",
       "      <td>0</td>\n",
       "      <td>0</td>\n",
       "      <td>0</td>\n",
       "      <td>0</td>\n",
       "      <td>0</td>\n",
       "      <td>0</td>\n",
       "    </tr>\n",
       "    <tr>\n",
       "      <td>2</td>\n",
       "      <td>1</td>\n",
       "      <td>0</td>\n",
       "      <td>0</td>\n",
       "      <td>0</td>\n",
       "      <td>0</td>\n",
       "      <td>0</td>\n",
       "      <td>0</td>\n",
       "      <td>0</td>\n",
       "      <td>0</td>\n",
       "      <td>0</td>\n",
       "      <td>...</td>\n",
       "      <td>0</td>\n",
       "      <td>0</td>\n",
       "      <td>0</td>\n",
       "      <td>0</td>\n",
       "      <td>0</td>\n",
       "      <td>0</td>\n",
       "      <td>0</td>\n",
       "      <td>0</td>\n",
       "      <td>0</td>\n",
       "      <td>0</td>\n",
       "    </tr>\n",
       "    <tr>\n",
       "      <td>3</td>\n",
       "      <td>4</td>\n",
       "      <td>0</td>\n",
       "      <td>0</td>\n",
       "      <td>0</td>\n",
       "      <td>0</td>\n",
       "      <td>0</td>\n",
       "      <td>0</td>\n",
       "      <td>0</td>\n",
       "      <td>0</td>\n",
       "      <td>0</td>\n",
       "      <td>...</td>\n",
       "      <td>0</td>\n",
       "      <td>0</td>\n",
       "      <td>0</td>\n",
       "      <td>0</td>\n",
       "      <td>0</td>\n",
       "      <td>0</td>\n",
       "      <td>0</td>\n",
       "      <td>0</td>\n",
       "      <td>0</td>\n",
       "      <td>0</td>\n",
       "    </tr>\n",
       "    <tr>\n",
       "      <td>4</td>\n",
       "      <td>0</td>\n",
       "      <td>0</td>\n",
       "      <td>0</td>\n",
       "      <td>0</td>\n",
       "      <td>0</td>\n",
       "      <td>0</td>\n",
       "      <td>0</td>\n",
       "      <td>0</td>\n",
       "      <td>0</td>\n",
       "      <td>0</td>\n",
       "      <td>...</td>\n",
       "      <td>0</td>\n",
       "      <td>0</td>\n",
       "      <td>0</td>\n",
       "      <td>0</td>\n",
       "      <td>0</td>\n",
       "      <td>0</td>\n",
       "      <td>0</td>\n",
       "      <td>0</td>\n",
       "      <td>0</td>\n",
       "      <td>0</td>\n",
       "    </tr>\n",
       "  </tbody>\n",
       "</table>\n",
       "<p>5 rows × 785 columns</p>\n",
       "</div>"
      ],
      "text/plain": [
       "   label  pixel0  pixel1  pixel2  pixel3  pixel4  pixel5  pixel6  pixel7  \\\n",
       "0      1       0       0       0       0       0       0       0       0   \n",
       "1      0       0       0       0       0       0       0       0       0   \n",
       "2      1       0       0       0       0       0       0       0       0   \n",
       "3      4       0       0       0       0       0       0       0       0   \n",
       "4      0       0       0       0       0       0       0       0       0   \n",
       "\n",
       "   pixel8  ...  pixel774  pixel775  pixel776  pixel777  pixel778  pixel779  \\\n",
       "0       0  ...         0         0         0         0         0         0   \n",
       "1       0  ...         0         0         0         0         0         0   \n",
       "2       0  ...         0         0         0         0         0         0   \n",
       "3       0  ...         0         0         0         0         0         0   \n",
       "4       0  ...         0         0         0         0         0         0   \n",
       "\n",
       "   pixel780  pixel781  pixel782  pixel783  \n",
       "0         0         0         0         0  \n",
       "1         0         0         0         0  \n",
       "2         0         0         0         0  \n",
       "3         0         0         0         0  \n",
       "4         0         0         0         0  \n",
       "\n",
       "[5 rows x 785 columns]"
      ]
     },
     "execution_count": 79,
     "metadata": {},
     "output_type": "execute_result"
    }
   ],
   "source": [
    "train = pd.read_csv(base_dir + '/train.csv').values\n",
    "test = pd.read_csv(base_dir + '/test.csv').values\n",
    "pd.read_csv(base_dir + '/train.csv').head()"
   ]
  },
  {
   "cell_type": "markdown",
   "metadata": {},
   "source": [
    "Pre-process -- convert data into correct size and normalize"
   ]
  },
  {
   "cell_type": "code",
   "execution_count": 80,
   "metadata": {},
   "outputs": [
    {
     "name": "stdout",
     "output_type": "stream",
     "text": [
      "2. Converting data\n",
      "torch.Size([42000, 1, 28, 28]) torch.Size([42000, 1])\n"
     ]
    }
   ],
   "source": [
    "print (\"2. Converting data\")\n",
    "trainX  = train[:, 1:].reshape(train.shape[0], 1, 28, 28)\n",
    "trainX  = trainX.astype(float)\n",
    "trainX /= 255.0\n",
    "trainX  = torch.from_numpy(trainX);\n",
    "trainY = train[:,0];\n",
    "trainY = trainY.astype(int);\n",
    "trainY = torch.from_numpy(trainY);\n",
    "trainY = trainY.view(train.shape[0],-1);\n",
    "print (trainX.size(), trainY.size())"
   ]
  },
  {
   "cell_type": "code",
   "execution_count": 82,
   "metadata": {},
   "outputs": [
    {
     "name": "stdout",
     "output_type": "stream",
     "text": [
      "tensor([7], dtype=torch.int32)\n"
     ]
    },
    {
     "data": {
      "image/png": "[encoded data removed]",
      "text/plain": [
       "<Figure size 432x288 with 1 Axes>"
      ]
     },
     "metadata": {
      "needs_background": "light"
     },
     "output_type": "display_data"
    }
   ],
   "source": [
    "index = 50\n",
    "pyplot.imshow(x_train.cpu()[index].reshape((28, 28)), cmap=\"gray\")\n",
    "print(trainY[index])"
   ]
  },
  {
   "cell_type": "code",
   "execution_count": 45,
   "metadata": {},
   "outputs": [],
   "source": [
    "# Initialize the network\n",
    "net = LeNet()"
   ]
  },
  {
   "cell_type": "markdown",
   "metadata": {},
   "source": [
    "Define hyper-params"
   ]
  },
  {
   "cell_type": "code",
   "execution_count": 83,
   "metadata": {},
   "outputs": [],
   "source": [
    "train_t = train.shape[0]\n",
    "epoch = 75000\n",
    "index_v = 0\n",
    "batch_size = 4\n",
    "\n",
    "criterion = nn.CrossEntropyLoss()\n",
    "optimizer = optim.SGD(net.parameters(), lr=0.001)"
   ]
  },
  {
   "cell_type": "code",
   "execution_count": 87,
   "metadata": {},
   "outputs": [
    {
     "name": "stdout",
     "output_type": "stream",
     "text": [
      "USE GPU\n"
     ]
    }
   ],
   "source": [
    "use_gpu = torch.cuda.is_available()\n",
    "net = net.cuda()"
   ]
  },
  {
   "cell_type": "code",
   "execution_count": 89,
   "metadata": {},
   "outputs": [
    {
     "name": "stdout",
     "output_type": "stream",
     "text": [
      "Epoch = 2000, Loss = 2.262963\n",
      "Epoch = 4000, Loss = 2.239201\n",
      "Epoch = 6000, Loss = 1.794622\n",
      "Epoch = 8000, Loss = 1.098259\n",
      "Epoch = 10000, Loss = 0.417671\n",
      "Epoch = 12000, Loss = 0.377651\n",
      "Epoch = 14000, Loss = 0.010643\n",
      "Epoch = 16000, Loss = 0.016616\n",
      "Epoch = 18000, Loss = 0.304940\n",
      "Epoch = 20000, Loss = 0.037759\n",
      "Epoch = 22000, Loss = 0.014095\n",
      "Epoch = 24000, Loss = 0.007249\n",
      "Epoch = 26000, Loss = 0.052577\n",
      "Epoch = 28000, Loss = 0.007794\n",
      "Epoch = 30000, Loss = 0.304937\n",
      "Epoch = 32000, Loss = 0.005952\n",
      "Epoch = 34000, Loss = 0.032157\n",
      "Epoch = 36000, Loss = 0.036868\n",
      "Epoch = 38000, Loss = 0.121651\n",
      "Epoch = 40000, Loss = 0.005932\n",
      "Epoch = 42000, Loss = 0.050617\n",
      "Epoch = 44000, Loss = 0.006924\n",
      "Epoch = 46000, Loss = 0.021020\n",
      "Epoch = 48000, Loss = 0.006283\n",
      "Epoch = 50000, Loss = 0.120847\n",
      "Epoch = 52000, Loss = 0.025698\n",
      "Epoch = 54000, Loss = 0.017460\n",
      "Epoch = 56000, Loss = 0.000283\n",
      "Epoch = 58000, Loss = 0.002351\n",
      "Epoch = 60000, Loss = 0.117294\n",
      "Epoch = 62000, Loss = 0.000581\n",
      "Epoch = 64000, Loss = 0.008483\n",
      "Epoch = 66000, Loss = 0.000408\n",
      "Epoch = 68000, Loss = 0.005859\n",
      "Epoch = 70000, Loss = 0.002700\n",
      "Epoch = 72000, Loss = 0.105266\n",
      "Epoch = 74000, Loss = 0.002662\n"
     ]
    }
   ],
   "source": [
    "# Training Loop\n",
    "for epoch in range(tot_epoch):\n",
    "    if index_v + batch_size >= train_t:\n",
    "        index_v = 0\n",
    "    else:\n",
    "        index_v = index_v + batch_size\n",
    "    # Fetch Data and Labels\n",
    "    data  = Variable(trainX[index_v:(index_v+batch_size)].clone())\n",
    "    label = Variable(trainY[index_v:(index_v+batch_size)].clone(), requires_grad = False)\n",
    "    # Convert data to pytorch objects\n",
    "    data  = data.type(torch.FloatTensor)\n",
    "    label = label.type(torch.LongTensor)\n",
    "    if use_gpu:\n",
    "        data  = data.cuda()\n",
    "        label = label.cuda()\n",
    "    # Do the learning through backprop using the optimizer\n",
    "    optimizer.zero_grad()\n",
    "    out   = net(data)\n",
    "    label = label.view(batch_size)\n",
    "    loss  = criterion(out, label)\n",
    "    loss.backward()\n",
    "    optimizer.step() \n",
    "\n",
    "    if (epoch + 1) % 2000 == 0:\n",
    "        print(\"Epoch = %d, Loss = %f\" %(epoch+1, mini_loss.data))"
   ]
  },
  {
   "cell_type": "code",
   "execution_count": 90,
   "metadata": {},
   "outputs": [
    {
     "name": "stdout",
     "output_type": "stream",
     "text": [
      "torch.Size([28000, 1, 28, 28])\n"
     ]
    }
   ],
   "source": [
    "# Pre-process the test data\n",
    "Y_data  = test.reshape(test.shape[0], 1, 28, 28)\n",
    "Y_data  = Y_data.astype(float)\n",
    "Y_data /= 255.0\n",
    "Y_data  = torch.from_numpy(Y_data);\n",
    "print (Y_data.size())\n",
    "nb_test = test.shape[0]"
   ]
  },
  {
   "cell_type": "code",
   "execution_count": 91,
   "metadata": {},
   "outputs": [
    {
     "data": {
      "text/plain": [
       "LeNet(\n",
       "  (conv1): Conv2d(1, 6, kernel_size=(5, 5), stride=(1, 1), padding=(2, 2))\n",
       "  (conv2): Conv2d(6, 16, kernel_size=(5, 5), stride=(1, 1))\n",
       "  (fc1): Linear(in_features=400, out_features=120, bias=True)\n",
       "  (fc2): Linear(in_features=120, out_features=84, bias=True)\n",
       "  (fc3): Linear(in_features=84, out_features=10, bias=True)\n",
       ")"
      ]
     },
     "execution_count": 91,
     "metadata": {},
     "output_type": "execute_result"
    }
   ],
   "source": [
    "net.eval()\n"
   ]
  },
  {
   "cell_type": "code",
   "execution_count": 93,
   "metadata": {},
   "outputs": [
    {
     "name": "stdout",
     "output_type": "stream",
     "text": [
      "Total tested = 2000\n",
      "Total tested = 4000\n",
      "Total tested = 6000\n",
      "Total tested = 8000\n",
      "Total tested = 10000\n",
      "Total tested = 12000\n",
      "Total tested = 14000\n",
      "Total tested = 16000\n",
      "Total tested = 18000\n",
      "Total tested = 20000\n",
      "Total tested = 22000\n",
      "Total tested = 24000\n",
      "Total tested = 26000\n",
      "Total tested = 28000\n"
     ]
    }
   ],
   "source": [
    "pred_final = np.ndarray(shape = (nb_test, 2), dtype=int)\n",
    "for i in range(nb_test):\n",
    "    # Convert and load test data\n",
    "    sample_data = Variable(Y_data[i:i+1].clone())\n",
    "    sample_data = sample_data.type(torch.FloatTensor)\n",
    "    if use_gpu:\n",
    "        sample_data = sample_data.cuda()\n",
    "    sample_out = net(sample_data)\n",
    "    # Get the max probabilities \n",
    "    _, pred = torch.max(sample_out, 1)\n",
    "    pred_final[i][0] = 1 + i\n",
    "    pred_final[i][1] = pred.data[0]\n",
    "    if (i + 1) % 2000 == 0:\n",
    "        print(\"Total tested = %d\" %(i + 1))"
   ]
  },
  {
   "cell_type": "code",
   "execution_count": null,
   "metadata": {},
   "outputs": [],
   "source": []
  }
 ],
 "metadata": {
  "kernelspec": {
   "display_name": "Python 3",
   "language": "python",
   "name": "python3"
  },
  "language_info": {
   "codemirror_mode": {
    "name": "ipython",
    "version": 3
   },
   "file_extension": ".py",
   "mimetype": "text/x-python",
   "name": "python",
   "nbconvert_exporter": "python",
   "pygments_lexer": "ipython3",
   "version": "3.7.4"
  }
 },
 "nbformat": 4,
 "nbformat_minor": 4
}
