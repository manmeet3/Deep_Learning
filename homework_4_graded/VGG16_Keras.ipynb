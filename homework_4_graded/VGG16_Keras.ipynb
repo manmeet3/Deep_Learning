{
 "cells": [
  {
   "cell_type": "code",
   "execution_count": 89,
   "metadata": {},
   "outputs": [],
   "source": [
    "import os\n",
    "import numpy as np\n",
    "import skimage.transform\n",
    "\n",
    "import matplotlib.pyplot as plt\n",
    "\n",
    "import keras\n",
    "from keras.models import Sequential\n",
    "from keras.datasets import cifar10\n",
    "from keras.optimizers import Adam, RMSprop\n",
    "from keras.callbacks import ModelCheckpoint, EarlyStopping\n",
    "\n",
    "from keras.preprocessing.image import ImageDataGenerator"
   ]
  },
  {
   "cell_type": "code",
   "execution_count": 90,
   "metadata": {},
   "outputs": [],
   "source": [
    "(trainX, trainY), (testX, testY) = cifar10.load_data()"
   ]
  },
  {
   "cell_type": "code",
   "execution_count": 91,
   "metadata": {},
   "outputs": [],
   "source": [
    "classes = ['airplane','automobile','bird','cat','deer','dog','frog','horse','ship','truck']"
   ]
  },
  {
   "cell_type": "code",
   "execution_count": 92,
   "metadata": {},
   "outputs": [
    {
     "name": "stdout",
     "output_type": "stream",
     "text": [
      "x_train shape: (50000, 32, 32, 3)\n",
      "50000 train samples\n",
      "10000 test samples\n"
     ]
    }
   ],
   "source": [
    "print('x_train shape:', trainX.shape)\n",
    "print(trainX.shape[0], 'train samples')\n",
    "print(testX.shape[0], 'test samples')"
   ]
  },
  {
   "cell_type": "code",
   "execution_count": 93,
   "metadata": {},
   "outputs": [
    {
     "data": {
      "text/plain": [
       "(50000, 32, 32, 3)"
      ]
     },
     "execution_count": 93,
     "metadata": {},
     "output_type": "execute_result"
    }
   ],
   "source": [
    "trainX.shape"
   ]
  },
  {
   "cell_type": "code",
   "execution_count": 94,
   "metadata": {},
   "outputs": [
    {
     "name": "stdout",
     "output_type": "stream",
     "text": [
      "Train: X = (50000, 32, 32, 3), y = (50000, 1)\n",
      "Test: X = (10000, 32, 32, 3), y = (10000, 1)\n"
     ]
    }
   ],
   "source": [
    "print('Train: X = %s, y = %s' %(trainX.shape, trainY.shape))\n",
    "print('Test: X = %s, y = %s' %(testX.shape, testY.shape))"
   ]
  },
  {
   "cell_type": "code",
   "execution_count": 95,
   "metadata": {},
   "outputs": [
    {
     "data": {
      "image/png": "[encoded data removed]",
      "text/plain": [
       "<Figure size 432x288 with 1 Axes>"
      ]
     },
     "metadata": {
      "needs_background": "light"
     },
     "output_type": "display_data"
    },
    {
     "name": "stdout",
     "output_type": "stream",
     "text": [
      "[7]\n"
     ]
    }
   ],
   "source": [
    "plt.figure()\n",
    "plt.imshow(trainX[7])\n",
    "plt.grid(False)\n",
    "plt.show()\n",
    "\n",
    "print(trainY[7])"
   ]
  },
  {
   "cell_type": "code",
   "execution_count": 104,
   "metadata": {},
   "outputs": [
    {
     "data": {
      "text/plain": [
       "(50000, 1)"
      ]
     },
     "execution_count": 104,
     "metadata": {},
     "output_type": "execute_result"
    }
   ],
   "source": [
    "trainX = x_train.astype('float32')\n",
    "testX = x_test.astype('float32')\n",
    "trainX /= 255\n",
    "testX /= 255"
   ]
  },
  {
   "cell_type": "code",
   "execution_count": 105,
   "metadata": {},
   "outputs": [],
   "source": [
    "model = Sequential()"
   ]
  },
  {
   "cell_type": "code",
   "execution_count": 106,
   "metadata": {},
   "outputs": [
    {
     "data": {
      "text/plain": [
       "'\\nmodel.add(keras.layers.Conv2D(filters=256, kernel_size=(3,3), padding=\"same\", activation=\"relu\"))\\nmodel.add(keras.layers.Conv2D(filters=256, kernel_size=(3,3), padding=\"same\", activation=\"relu\"))\\nmodel.add(keras.layers.Conv2D(filters=256, kernel_size=(3,3), padding=\"same\", activation=\"relu\"))\\nmodel.add(keras.layers.MaxPool2D(pool_size=(2,2), strides=(2,2)))\\nmodel.add(keras.layers.Conv2D(filters=512, kernel_size=(3,3), padding=\"same\", activation=\"relu\"))\\nmodel.add(keras.layers.Conv2D(filters=512, kernel_size=(3,3), padding=\"same\", activation=\"relu\"))\\nmodel.add(keras.layers.Conv2D(filters=512, kernel_size=(3,3), padding=\"same\", activation=\"relu\"))\\nmodel.add(keras.layers.MaxPool2D(pool_size=(2,2), strides=(2,2)))\\nmodel.add(keras.layers.Conv2D(filters=512, kernel_size=(3,3), padding=\"same\", activation=\"relu\"))\\nmodel.add(keras.layers.Conv2D(filters=512, kernel_size=(3,3), padding=\"same\", activation=\"relu\"))\\nmodel.add(keras.layers.Conv2D(filters=512, kernel_size=(3,3), padding=\"same\", activation=\"relu\"))\\nmodel.add(keras.layers.MaxPool2D(pool_size=(2,2), strides=(2,2)))       \\n'"
      ]
     },
     "execution_count": 106,
     "metadata": {},
     "output_type": "execute_result"
    }
   ],
   "source": [
    "model.add(keras.layers.Conv2D(32, (3,3), padding=\"same\", input_shape=trainX.shape[1:], activation=\"relu\"))\n",
    "model.add(keras.layers.Conv2D(filters=32, kernel_size=(3,3), activation=\"relu\"))\n",
    "model.add(keras.layers.MaxPool2D(pool_size=(2,2), strides=(2,2)))\n",
    "model.add(keras.layers.Dropout(0.25))\n",
    "model.add(keras.layers.Conv2D(filters=64, kernel_size=(3,3), padding=\"same\", activation=\"relu\"))\n",
    "model.add(keras.layers.Conv2D(filters=64, kernel_size=(3,3), activation=\"relu\"))\n",
    "model.add(keras.layers.MaxPool2D(pool_size=(2,2)))\n",
    "model.add(keras.layers.Dropout(0.25))"
   ]
  },
  {
   "cell_type": "code",
   "execution_count": 107,
   "metadata": {},
   "outputs": [],
   "source": [
    "model.add(keras.layers.Flatten())\n",
    "model.add(keras.layers.Dense(512, activation=\"relu\"))\n",
    "model.add(keras.layers.Dropout(0.5))\n",
    "model.add(keras.layers.Dense(len(classes), activation=\"softmax\"))"
   ]
  },
  {
   "cell_type": "code",
   "execution_count": 108,
   "metadata": {},
   "outputs": [],
   "source": [
    "optimizer=RMSprop(learning_rate=0.0001, decay=1e-6)"
   ]
  },
  {
   "cell_type": "code",
   "execution_count": 109,
   "metadata": {},
   "outputs": [],
   "source": [
    "model.compile(optimizer=optimizer, loss=keras.losses.categorical_crossentropy, metrics=['accuracy'])"
   ]
  },
  {
   "cell_type": "code",
   "execution_count": 110,
   "metadata": {},
   "outputs": [
    {
     "name": "stdout",
     "output_type": "stream",
     "text": [
      "Model: \"sequential_11\"\n",
      "_________________________________________________________________\n",
      "Layer (type)                 Output Shape              Param #   \n",
      "=================================================================\n",
      "conv2d_98 (Conv2D)           (None, 32, 32, 32)        896       \n",
      "_________________________________________________________________\n",
      "conv2d_99 (Conv2D)           (None, 30, 30, 32)        9248      \n",
      "_________________________________________________________________\n",
      "max_pooling2d_38 (MaxPooling (None, 15, 15, 32)        0         \n",
      "_________________________________________________________________\n",
      "dropout_4 (Dropout)          (None, 15, 15, 32)        0         \n",
      "_________________________________________________________________\n",
      "conv2d_100 (Conv2D)          (None, 15, 15, 64)        18496     \n",
      "_________________________________________________________________\n",
      "conv2d_101 (Conv2D)          (None, 13, 13, 64)        36928     \n",
      "_________________________________________________________________\n",
      "max_pooling2d_39 (MaxPooling (None, 6, 6, 64)          0         \n",
      "_________________________________________________________________\n",
      "dropout_5 (Dropout)          (None, 6, 6, 64)          0         \n",
      "_________________________________________________________________\n",
      "flatten_8 (Flatten)          (None, 2304)              0         \n",
      "_________________________________________________________________\n",
      "dense_21 (Dense)             (None, 512)               1180160   \n",
      "_________________________________________________________________\n",
      "dropout_6 (Dropout)          (None, 512)               0         \n",
      "_________________________________________________________________\n",
      "dense_22 (Dense)             (None, 10)                5130      \n",
      "=================================================================\n",
      "Total params: 1,250,858\n",
      "Trainable params: 1,250,858\n",
      "Non-trainable params: 0\n",
      "_________________________________________________________________\n"
     ]
    }
   ],
   "source": [
    "model.summary()"
   ]
  },
  {
   "cell_type": "code",
   "execution_count": 111,
   "metadata": {},
   "outputs": [],
   "source": [
    "checkpoint = ModelCheckpoint(\"vgg16_1.h5\", monitor='val_acc', verbose=1, save_best_only=True, save_weights_only=False, mode='auto', period=1)"
   ]
  },
  {
   "cell_type": "code",
   "execution_count": 112,
   "metadata": {},
   "outputs": [],
   "source": [
    "early_stop= EarlyStopping(monitor='val_acc', min_delta=0, patience=20, verbose=1, mode='auto')"
   ]
  },
  {
   "cell_type": "code",
   "execution_count": 113,
   "metadata": {},
   "outputs": [],
   "source": [
    "# Convert class vectors to binary class matrices.\n",
    "trainY = keras.utils.to_categorical(trainY, len(classes))\n",
    "testY = keras.utils.to_categorical(testY, len(classes))"
   ]
  },
  {
   "cell_type": "markdown",
   "metadata": {},
   "source": [
    "Fix up our data so that it is in float format"
   ]
  },
  {
   "cell_type": "code",
   "execution_count": 114,
   "metadata": {},
   "outputs": [
    {
     "name": "stdout",
     "output_type": "stream",
     "text": [
      "Train on 20000 samples, validate on 2000 samples\n",
      "Epoch 1/40\n",
      "20000/20000 [==============================] - 5s 256us/step - loss: 4.1781 - accuracy: 0.1849 - val_loss: 1.8297 - val_accuracy: 0.3540\n",
      "Epoch 2/40\n",
      "20000/20000 [==============================] - 4s 211us/step - loss: 1.8492 - accuracy: 0.3308 - val_loss: 1.6272 - val_accuracy: 0.4030\n",
      "Epoch 3/40\n",
      "20000/20000 [==============================] - 4s 215us/step - loss: 1.6677 - accuracy: 0.3897 - val_loss: 1.4862 - val_accuracy: 0.4640\n",
      "Epoch 4/40\n",
      "20000/20000 [==============================] - 4s 216us/step - loss: 1.5593 - accuracy: 0.4348 - val_loss: 1.4363 - val_accuracy: 0.4930\n",
      "Epoch 5/40\n",
      "20000/20000 [==============================] - 4s 212us/step - loss: 1.4683 - accuracy: 0.4724 - val_loss: 1.3583 - val_accuracy: 0.5230\n",
      "Epoch 6/40\n",
      "20000/20000 [==============================] - 4s 214us/step - loss: 1.4020 - accuracy: 0.4976 - val_loss: 1.3281 - val_accuracy: 0.5330\n",
      "Epoch 7/40\n",
      "20000/20000 [==============================] - 4s 211us/step - loss: 1.3412 - accuracy: 0.5258 - val_loss: 1.2874 - val_accuracy: 0.5540\n",
      "Epoch 8/40\n",
      "20000/20000 [==============================] - 4s 213us/step - loss: 1.2895 - accuracy: 0.5447 - val_loss: 1.2196 - val_accuracy: 0.5710\n",
      "Epoch 9/40\n",
      "20000/20000 [==============================] - 4s 215us/step - loss: 1.2455 - accuracy: 0.5575 - val_loss: 1.2011 - val_accuracy: 0.5785\n",
      "Epoch 10/40\n",
      "20000/20000 [==============================] - 4s 216us/step - loss: 1.2119 - accuracy: 0.5693 - val_loss: 1.1418 - val_accuracy: 0.5880\n",
      "Epoch 11/40\n",
      "20000/20000 [==============================] - 4s 214us/step - loss: 1.1728 - accuracy: 0.5896 - val_loss: 1.1618 - val_accuracy: 0.5860\n",
      "Epoch 12/40\n",
      "20000/20000 [==============================] - 4s 216us/step - loss: 1.1398 - accuracy: 0.5969 - val_loss: 1.1347 - val_accuracy: 0.5880\n",
      "Epoch 13/40\n",
      "20000/20000 [==============================] - 4s 217us/step - loss: 1.1088 - accuracy: 0.6118 - val_loss: 1.1758 - val_accuracy: 0.5790\n",
      "Epoch 14/40\n",
      "20000/20000 [==============================] - 4s 212us/step - loss: 1.0740 - accuracy: 0.6245 - val_loss: 1.0923 - val_accuracy: 0.6205\n",
      "Epoch 15/40\n",
      "20000/20000 [==============================] - 4s 212us/step - loss: 1.0504 - accuracy: 0.6323 - val_loss: 1.0431 - val_accuracy: 0.6265\n",
      "Epoch 16/40\n",
      "20000/20000 [==============================] - 4s 213us/step - loss: 1.0348 - accuracy: 0.6392 - val_loss: 1.0789 - val_accuracy: 0.6190\n",
      "Epoch 17/40\n",
      "20000/20000 [==============================] - 4s 213us/step - loss: 1.0041 - accuracy: 0.6479 - val_loss: 1.1106 - val_accuracy: 0.6065\n",
      "Epoch 18/40\n",
      "20000/20000 [==============================] - 4s 213us/step - loss: 0.9907 - accuracy: 0.6557 - val_loss: 1.0234 - val_accuracy: 0.6395\n",
      "Epoch 19/40\n",
      "20000/20000 [==============================] - 4s 212us/step - loss: 0.9646 - accuracy: 0.6684 - val_loss: 1.0385 - val_accuracy: 0.6410\n",
      "Epoch 20/40\n",
      "20000/20000 [==============================] - 4s 212us/step - loss: 0.9491 - accuracy: 0.6718 - val_loss: 1.0118 - val_accuracy: 0.6330\n",
      "Epoch 21/40\n",
      "20000/20000 [==============================] - 4s 213us/step - loss: 0.9269 - accuracy: 0.6777 - val_loss: 0.9704 - val_accuracy: 0.6480\n",
      "Epoch 22/40\n",
      "20000/20000 [==============================] - 4s 213us/step - loss: 0.9146 - accuracy: 0.6868 - val_loss: 0.9716 - val_accuracy: 0.6500\n",
      "Epoch 23/40\n",
      "20000/20000 [==============================] - 4s 212us/step - loss: 0.9114 - accuracy: 0.6840 - val_loss: 0.9800 - val_accuracy: 0.6625\n",
      "Epoch 24/40\n",
      "20000/20000 [==============================] - 4s 214us/step - loss: 0.8978 - accuracy: 0.6920 - val_loss: 0.9649 - val_accuracy: 0.6650\n",
      "Epoch 25/40\n",
      "20000/20000 [==============================] - 4s 212us/step - loss: 0.8731 - accuracy: 0.6942 - val_loss: 0.9943 - val_accuracy: 0.6540\n",
      "Epoch 26/40\n",
      "20000/20000 [==============================] - 4s 212us/step - loss: 0.8741 - accuracy: 0.7029 - val_loss: 0.9371 - val_accuracy: 0.6690\n",
      "Epoch 27/40\n",
      "20000/20000 [==============================] - 5s 229us/step - loss: 0.8499 - accuracy: 0.7074 - val_loss: 0.9503 - val_accuracy: 0.6760\n",
      "Epoch 28/40\n",
      "20000/20000 [==============================] - 5s 225us/step - loss: 0.8439 - accuracy: 0.7120 - val_loss: 0.9828 - val_accuracy: 0.6520\n",
      "Epoch 29/40\n",
      "20000/20000 [==============================] - 4s 216us/step - loss: 0.8413 - accuracy: 0.7103 - val_loss: 0.9447 - val_accuracy: 0.6645\n",
      "Epoch 30/40\n",
      "20000/20000 [==============================] - 5s 225us/step - loss: 0.8312 - accuracy: 0.7146 - val_loss: 1.0094 - val_accuracy: 0.6595\n",
      "Epoch 31/40\n",
      "20000/20000 [==============================] - 4s 213us/step - loss: 0.8227 - accuracy: 0.7161 - val_loss: 0.9808 - val_accuracy: 0.6780\n",
      "Epoch 32/40\n",
      "20000/20000 [==============================] - 4s 214us/step - loss: 0.8157 - accuracy: 0.7228 - val_loss: 0.9368 - val_accuracy: 0.6720\n",
      "Epoch 33/40\n",
      "20000/20000 [==============================] - 4s 214us/step - loss: 0.8019 - accuracy: 0.7230 - val_loss: 0.9196 - val_accuracy: 0.6835\n",
      "Epoch 34/40\n",
      "20000/20000 [==============================] - 4s 216us/step - loss: 0.8037 - accuracy: 0.7259 - val_loss: 0.9046 - val_accuracy: 0.6870\n",
      "Epoch 35/40\n",
      "20000/20000 [==============================] - 4s 214us/step - loss: 0.7911 - accuracy: 0.7309 - val_loss: 0.9117 - val_accuracy: 0.6845\n",
      "Epoch 36/40\n",
      "20000/20000 [==============================] - 4s 212us/step - loss: 0.7849 - accuracy: 0.7347 - val_loss: 0.8917 - val_accuracy: 0.6890\n",
      "Epoch 37/40\n",
      "20000/20000 [==============================] - 4s 213us/step - loss: 0.7684 - accuracy: 0.7380 - val_loss: 0.9137 - val_accuracy: 0.6755\n",
      "Epoch 38/40\n",
      "20000/20000 [==============================] - 4s 213us/step - loss: 0.7808 - accuracy: 0.7351 - val_loss: 0.9231 - val_accuracy: 0.6935\n",
      "Epoch 39/40\n",
      "20000/20000 [==============================] - 4s 215us/step - loss: 0.7666 - accuracy: 0.7377 - val_loss: 0.9520 - val_accuracy: 0.6910\n",
      "Epoch 40/40\n",
      "20000/20000 [==============================] - 4s 212us/step - loss: 0.7656 - accuracy: 0.7395 - val_loss: 0.9064 - val_accuracy: 0.6985\n"
     ]
    }
   ],
   "source": [
    "hist=model.fit(trainX[0:20000], trainY[0:20000], batch_size=40, epochs=40, validation_data=(testX[0:2000], testY[0:2000]), shuffle=True)"
   ]
  },
  {
   "cell_type": "code",
   "execution_count": 115,
   "metadata": {},
   "outputs": [],
   "source": [
    "def show_train_history(train_history, train, validation, title):\n",
    "    plt.plot(train_history.history[train])\n",
    "    plt.plot(train_history.history[validation])\n",
    "    plt.title(title)\n",
    "    plt.ylabel(train)\n",
    "    plt.xlabel('Epoch')\n",
    "    plt.legend(['train', 'validation'], loc = 'upper left')\n",
    "    plt.show()"
   ]
  },
  {
   "cell_type": "code",
   "execution_count": 116,
   "metadata": {},
   "outputs": [
    {
     "data": {
      "image/png": "[encoded data removed]",
      "text/plain": [
       "<Figure size 432x288 with 1 Axes>"
      ]
     },
     "metadata": {
      "needs_background": "light"
     },
     "output_type": "display_data"
    }
   ],
   "source": [
    "show_train_history(hist, 'accuracy', 'val_accuracy', 'Accuracy')"
   ]
  },
  {
   "cell_type": "code",
   "execution_count": 117,
   "metadata": {},
   "outputs": [
    {
     "data": {
      "image/png": "[encoded data removed]",
      "text/plain": [
       "<Figure size 432x288 with 1 Axes>"
      ]
     },
     "metadata": {
      "needs_background": "light"
     },
     "output_type": "display_data"
    }
   ],
   "source": [
    "show_train_history(hist, 'loss', 'val_loss', 'Loss')"
   ]
  }
 ],
 "metadata": {
  "kernelspec": {
   "display_name": "Python 3",
   "language": "python",
   "name": "python3"
  },
  "language_info": {
   "codemirror_mode": {
    "name": "ipython",
    "version": 3
   },
   "file_extension": ".py",
   "mimetype": "text/x-python",
   "name": "python",
   "nbconvert_exporter": "python",
   "pygments_lexer": "ipython3",
   "version": "3.7.4"
  }
 },
 "nbformat": 4,
 "nbformat_minor": 4
}
